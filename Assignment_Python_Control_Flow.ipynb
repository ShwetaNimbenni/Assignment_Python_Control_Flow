{
 "cells": [
  {
   "cell_type": "markdown",
   "id": "ad3fc68b-883a-46bc-91c0-bed8d4bd9c4e",
   "metadata": {},
   "source": [
    "1. Write a Python program to check if a given number is positive or negative."
   ]
  },
  {
   "cell_type": "code",
   "execution_count": 4,
   "id": "d7974ae1-8cb3-40d6-b5fb-540e815e627f",
   "metadata": {},
   "outputs": [
    {
     "name": "stdin",
     "output_type": "stream",
     "text": [
      "Enter Input -9\n"
     ]
    },
    {
     "name": "stdout",
     "output_type": "stream",
     "text": [
      "The number is negative\n"
     ]
    }
   ],
   "source": [
    "# Input a number from the user\n",
    "num = float(input(\"Enter a number: \"))\n",
    "\n",
    "# Check if the number is positive, negative, or zero\n",
    "if num > 0:\n",
    "    print(\"The number is positive.\")\n",
    "elif num < 0:\n",
    "    print(\"The number is negative.\")\n",
    "else:\n",
    "    print(\"The number is zero.\")"
   ]
  },
  {
   "cell_type": "markdown",
   "id": "6403af8f-cf31-469d-8903-64e3cb133281",
   "metadata": {},
   "source": [
    "2. Create a program that determines if a person is eligible to vote based on their age."
   ]
  },
  {
   "cell_type": "code",
   "execution_count": 8,
   "id": "68182181-6d23-4b87-95ad-b5da11eaa9ab",
   "metadata": {},
   "outputs": [
    {
     "name": "stdin",
     "output_type": "stream",
     "text": [
      "Enter your age:  20\n"
     ]
    },
    {
     "name": "stdout",
     "output_type": "stream",
     "text": [
      "You are eligible to vote.\n"
     ]
    }
   ],
   "source": [
    "# Define the minimum voting age\n",
    "voting_age = 18\n",
    "\n",
    "age = int(input(\"Enter your age: \"))\n",
    "\n",
    "# Check if the person is eligible to vote\n",
    "if age >= voting_age:\n",
    "    print(\"You are eligible to vote.\")\n",
    "else:\n",
    "    print(\"You are not eligible to vote yet.\")\n"
   ]
  },
  {
   "cell_type": "markdown",
   "id": "ff58b964-a401-4a9f-8fda-3cf1a3e7bc23",
   "metadata": {},
   "source": [
    "3. Develop a program to find the maximum of two numbers using if-else statements."
   ]
  },
  {
   "cell_type": "code",
   "execution_count": 2,
   "id": "e132a298-7082-432c-8ef0-6a84c6698428",
   "metadata": {},
   "outputs": [
    {
     "name": "stdin",
     "output_type": "stream",
     "text": [
      "Enter the first number:  30\n",
      "Enter the second number:  80\n"
     ]
    },
    {
     "name": "stdout",
     "output_type": "stream",
     "text": [
      "The maximum number is: 80\n"
     ]
    }
   ],
   "source": [
    "# Input two numbers from the user\n",
    "num1 = int(input(\"Enter the first number: \"))\n",
    "num2 = int(input(\"Enter the second number: \"))\n",
    "\n",
    "# Compare the two numbers to find the maximum\n",
    "if num1 > num2:\n",
    "    max_num = num1\n",
    "else:\n",
    "    max_num = num2\n",
    "\n",
    "# Print the maximum number\n",
    "print(\"The maximum number is:\", max_num)"
   ]
  },
  {
   "cell_type": "markdown",
   "id": "901bbdf0-e628-45df-82eb-e910d410910c",
   "metadata": {},
   "source": [
    "4. Write a Python script to classify a given year as a leap year or not."
   ]
  },
  {
   "cell_type": "code",
   "execution_count": 3,
   "id": "af059722-f5b5-4fec-982a-69e9c05be2cf",
   "metadata": {},
   "outputs": [
    {
     "name": "stdin",
     "output_type": "stream",
     "text": [
      "Enter a year:  2023\n"
     ]
    },
    {
     "name": "stdout",
     "output_type": "stream",
     "text": [
      "2023 is not a leap year.\n"
     ]
    }
   ],
   "source": [
    "# Input a year from the user\n",
    "year = int(input(\"Enter a year: \"))\n",
    "\n",
    "# Check if it's a leap year\n",
    "if (year % 4 == 0 and year % 100 != 0) or (year % 400 == 0):\n",
    "    print(year, \"is a leap year.\")\n",
    "else:\n",
    "    print(year, \"is not a leap year.\")"
   ]
  },
  {
   "cell_type": "markdown",
   "id": "5698f7fe-09a3-4e44-8416-e752e0e0a49a",
   "metadata": {},
   "source": [
    "5. Create a program that checks whether a character is a vowel or a consonant."
   ]
  },
  {
   "cell_type": "code",
   "execution_count": 5,
   "id": "a6ebbe77-da68-4343-803b-79b3da3cce84",
   "metadata": {},
   "outputs": [
    {
     "name": "stdin",
     "output_type": "stream",
     "text": [
      "Enter a character:  a\n"
     ]
    },
    {
     "name": "stdout",
     "output_type": "stream",
     "text": [
      "a is a vowel.\n"
     ]
    }
   ],
   "source": [
    "# Input a character from the user\n",
    "char = input(\"Enter a character: \").lower()  # Convert the input to lowercase for case insensitivity\n",
    "\n",
    "# Check if the input is a single character\n",
    "if len(char) == 1:\n",
    "    # Check if the character is a vowel\n",
    "    if char in 'aeiou':\n",
    "        print(char, \"is a vowel.\")\n",
    "    else:\n",
    "        print(char, \"is a consonant.\")\n",
    "else:\n",
    "    print(\"Please enter a single character.\")"
   ]
  },
  {
   "cell_type": "markdown",
   "id": "e28cff31-ec46-4157-83f8-b528353dac18",
   "metadata": {},
   "source": [
    "6. Implement a program to determine whether a given number is even or odd."
   ]
  },
  {
   "cell_type": "code",
   "execution_count": 8,
   "id": "633ee170-02eb-4121-9019-78c7c94600e5",
   "metadata": {},
   "outputs": [
    {
     "name": "stdin",
     "output_type": "stream",
     "text": [
      "Enter a number:  45\n"
     ]
    },
    {
     "name": "stdout",
     "output_type": "stream",
     "text": [
      "45 is odd.\n"
     ]
    }
   ],
   "source": [
    "# Input a number from the user\n",
    "num = int(input(\"Enter a number: \"))\n",
    "\n",
    "# Check if the number is even or odd\n",
    "if num % 2 == 0:\n",
    "    print(num, \"is even.\")\n",
    "else:\n",
    "    print(num, \"is odd.\")"
   ]
  },
  {
   "cell_type": "markdown",
   "id": "e9cb3f5c-6fe8-4ad0-ba21-7529736beb8a",
   "metadata": {},
   "source": [
    "7. Write a Python function to calculate the absolute value of a number without using the `abs()` function."
   ]
  },
  {
   "cell_type": "code",
   "execution_count": 12,
   "id": "fd5800cb-2f51-4c6d-9e92-7da141a81781",
   "metadata": {},
   "outputs": [
    {
     "name": "stdin",
     "output_type": "stream",
     "text": [
      "Enter a number:  -20\n"
     ]
    },
    {
     "name": "stdout",
     "output_type": "stream",
     "text": [
      "The absolute value of -20 is 20\n"
     ]
    }
   ],
   "source": [
    "def calculate_absolute_value(number):\n",
    "    if number < 0:\n",
    "        return -number\n",
    "    else:\n",
    "        return number\n",
    "\n",
    "# Test the function\n",
    "num = int(input(\"Enter a number: \"))  # Input a number from the user\n",
    "result = calculate_absolute_value(num)  # Calculate the absolute value\n",
    "\n",
    "print(f\"The absolute value of {num} is {result}\")"
   ]
  },
  {
   "cell_type": "markdown",
   "id": "3c406353-33d6-4478-b85d-0bceb074988e",
   "metadata": {},
   "source": [
    "8. Develop a program that determines the largest of three given numbers using if-else statements."
   ]
  },
  {
   "cell_type": "code",
   "execution_count": 13,
   "id": "7125f812-5d70-4cfd-bfff-59eeb01be3c8",
   "metadata": {},
   "outputs": [
    {
     "name": "stdin",
     "output_type": "stream",
     "text": [
      "Enter the first number:  23\n",
      "Enter the second number:  45\n",
      "Enter the third number:  78\n"
     ]
    },
    {
     "name": "stdout",
     "output_type": "stream",
     "text": [
      "The largest number is: 78\n"
     ]
    }
   ],
   "source": [
    "num1 = int(input(\"Enter the first number: \"))\n",
    "num2 = int(input(\"Enter the second number: \"))\n",
    "num3 = int(input(\"Enter the third number: \"))\n",
    "\n",
    "# Find the largest number using if-else statements\n",
    "if num1 >= num2 and num1 >= num3:\n",
    "    largest = num1\n",
    "elif num2 >= num1 and num2 >= num3:\n",
    "    largest = num2\n",
    "else:\n",
    "    largest = num3\n",
    "\n",
    "# Print the largest number\n",
    "print(\"The largest number is:\", largest)\n"
   ]
  },
  {
   "cell_type": "markdown",
   "id": "f3a190bd-1cf4-40fd-888b-be5b37c7af9c",
   "metadata": {},
   "source": [
    "9. Create a program that checks if a given string is a palindrome."
   ]
  },
  {
   "cell_type": "code",
   "execution_count": 14,
   "id": "0b09b05f-c538-4278-ace7-99a9f78aaef5",
   "metadata": {},
   "outputs": [
    {
     "name": "stdin",
     "output_type": "stream",
     "text": [
      "Enter a string:  nitin\n"
     ]
    },
    {
     "name": "stdout",
     "output_type": "stream",
     "text": [
      "The string is a palindrome.\n"
     ]
    }
   ],
   "source": [
    "# Input a string from the user\n",
    "string = input(\"Enter a string: \")\n",
    "\n",
    "# Remove spaces and convert the string to lowercase\n",
    "string = string.replace(\" \", \"\").lower()\n",
    "\n",
    "# Check if the string is a palindrome\n",
    "if string == string[::-1]:\n",
    "    print(\"The string is a palindrome.\")\n",
    "else:\n",
    "    print(\"The string is not a palindrome.\")"
   ]
  },
  {
   "cell_type": "markdown",
   "id": "8700678d-854a-47ed-be71-4800f2bd9ed0",
   "metadata": {},
   "source": [
    "10. Write a Python program to calculate the grade based on a student's score."
   ]
  },
  {
   "cell_type": "code",
   "execution_count": 16,
   "id": "85ea7e39-c028-457f-ba24-5bc66920dfa8",
   "metadata": {},
   "outputs": [
    {
     "name": "stdin",
     "output_type": "stream",
     "text": [
      "Enter the student's score:  100\n"
     ]
    },
    {
     "name": "stdout",
     "output_type": "stream",
     "text": [
      "The student's grade is: A\n"
     ]
    }
   ],
   "source": [
    "# Input the student's score from the user\n",
    "score = float(input(\"Enter the student's score: \"))\n",
    "\n",
    "# Determine the grade based on the score\n",
    "if 90 <= score <= 100:\n",
    "    grade = \"A\"\n",
    "elif 80 <= score < 90:\n",
    "    grade = \"B\"\n",
    "elif 70 <= score < 80:\n",
    "    grade = \"C\"\n",
    "elif 60 <= score < 70:\n",
    "    grade = \"D\"\n",
    "elif 0 <= score < 60:\n",
    "    grade = \"F\"\n",
    "else:\n",
    "    grade = \"Invalid score\"\n",
    "\n",
    "# Print the calculated grade\n",
    "print(f\"The student's grade is: {grade}\")"
   ]
  },
  {
   "cell_type": "markdown",
   "id": "56debc22-0e3b-47ee-8b4a-cf8e33306561",
   "metadata": {},
   "source": [
    "Nested If-Else Statements:"
   ]
  },
  {
   "cell_type": "markdown",
   "id": "18b74d1d-f2d0-4847-81dd-7ca67b62b736",
   "metadata": {},
   "source": [
    "11. Write a program to find the largest among three numbers using nested if-else statements."
   ]
  },
  {
   "cell_type": "code",
   "execution_count": 1,
   "id": "c01d1bcd-98ae-4675-9053-80f5abd36b7a",
   "metadata": {},
   "outputs": [
    {
     "name": "stdin",
     "output_type": "stream",
     "text": [
      "Enter the first number:  23\n",
      "Enter the second number:  45\n",
      "Enter the third number:  67\n"
     ]
    },
    {
     "name": "stdout",
     "output_type": "stream",
     "text": [
      "The largest number is: 67\n"
     ]
    }
   ],
   "source": [
    "# Input three numbers from the user\n",
    "num1 = int(input(\"Enter the first number: \"))\n",
    "num2 = int(input(\"Enter the second number: \"))\n",
    "num3 = int(input(\"Enter the third number: \"))\n",
    "\n",
    "# Find the largest number using nested if-else statements\n",
    "if num1 >= num2:\n",
    "    if num1 >= num3:\n",
    "        largest = num1\n",
    "    else:\n",
    "        largest = num3\n",
    "else:\n",
    "    if num2 >= num3:\n",
    "        largest = num2\n",
    "    else:\n",
    "        largest = num3\n",
    "\n",
    "print(\"The largest number is:\", largest)"
   ]
  },
  {
   "cell_type": "markdown",
   "id": "a5ad7b9b-9e04-4e4e-b34e-4e0734709bb2",
   "metadata": {},
   "source": [
    "12. Implement a program to determine if a triangle is equilateral, isosceles, or scalene."
   ]
  },
  {
   "cell_type": "code",
   "execution_count": 3,
   "id": "9a3fd7a7-36b8-42dc-bc30-e8816d49e54e",
   "metadata": {},
   "outputs": [
    {
     "name": "stdin",
     "output_type": "stream",
     "text": [
      "Enter the length of the first side:  10\n",
      "Enter the length of the second side:  10\n",
      "Enter the length of the third side:  10\n"
     ]
    },
    {
     "name": "stdout",
     "output_type": "stream",
     "text": [
      "The triangle is Equilateral.\n"
     ]
    }
   ],
   "source": [
    "# Input the lengths of the three sides of the triangle\n",
    "side1 = int(input(\"Enter the length of the first side: \"))\n",
    "side2 = int(input(\"Enter the length of the second side: \"))\n",
    "side3 = int(input(\"Enter the length of the third side: \"))\n",
    "\n",
    "# Check if it's a valid triangle\n",
    "if (side1 + side2 > side3) and (side1 + side3 > side2) and (side2 + side3 > side1):\n",
    "    if side1 == side2 == side3:\n",
    "        triangle_type = \"Equilateral\"\n",
    "    elif side1 == side2 or side1 == side3 or side2 == side3:\n",
    "        triangle_type = \"Isosceles\"\n",
    "    else:\n",
    "        triangle_type = \"Scalene\"\n",
    "        \n",
    "    print(f\"The triangle is {triangle_type}.\")\n",
    "else:\n",
    "    print(\"It's not a valid triangle.\")"
   ]
  },
  {
   "cell_type": "markdown",
   "id": "e988811c-9b1d-4155-89a9-d4f6ab1bc956",
   "metadata": {},
   "source": [
    "13. Develop a program that checks if a year is a leap year and also if it is a century year."
   ]
  },
  {
   "cell_type": "code",
   "execution_count": 4,
   "id": "e7d7e773-c0d1-4d97-90c9-b6b96629be5b",
   "metadata": {},
   "outputs": [
    {
     "name": "stdin",
     "output_type": "stream",
     "text": [
      "Enter a year:  2023\n"
     ]
    },
    {
     "name": "stdout",
     "output_type": "stream",
     "text": [
      "2023 is not a leap year.\n",
      "2023 is not a century year.\n"
     ]
    }
   ],
   "source": [
    "year = int(input(\"Enter a year: \"))\n",
    "\n",
    "# Check if it's a leap year\n",
    "is_leap_year = (year % 4 == 0 and year % 100 != 0) or (year % 400 == 0)\n",
    "\n",
    "is_century_year = year % 100 == 0\n",
    "\n",
    "if is_leap_year:\n",
    "    print(year, \"is a leap year.\")\n",
    "else:\n",
    "    print(year, \"is not a leap year.\")\n",
    "\n",
    "if is_century_year:\n",
    "    print(year, \"is a century year.\")\n",
    "else:\n",
    "    print(year, \"is not a century year.\")"
   ]
  },
  {
   "cell_type": "markdown",
   "id": "9191ad4e-eec7-4739-9500-0f49ce2898e5",
   "metadata": {},
   "source": [
    "14. Write a Python script to determine if a number is positive, negative, or zero."
   ]
  },
  {
   "cell_type": "code",
   "execution_count": 5,
   "id": "cb0c6c82-402f-4ead-b9f2-ff3b005564c6",
   "metadata": {},
   "outputs": [
    {
     "name": "stdin",
     "output_type": "stream",
     "text": [
      "Enter a number:  20\n"
     ]
    },
    {
     "name": "stdout",
     "output_type": "stream",
     "text": [
      "The number is positive.\n"
     ]
    }
   ],
   "source": [
    "# Input a number from the user\n",
    "num = int(input(\"Enter a number: \"))\n",
    "\n",
    "# Check if the number is positive, negative, or zero\n",
    "if num > 0:\n",
    "    print(\"The number is positive.\")\n",
    "elif num < 0:\n",
    "    print(\"The number is negative.\")\n",
    "else:\n",
    "    print(\"The number is zero.\")"
   ]
  },
  {
   "cell_type": "markdown",
   "id": "325cbb1f-786b-4ac2-9963-4ff333099c33",
   "metadata": {},
   "source": [
    "15. Create a program to check if a person is a teenager (between 13 and 19 years old)."
   ]
  },
  {
   "cell_type": "code",
   "execution_count": 9,
   "id": "1892dba1-0a91-4bfb-a03c-bb68ccacedfc",
   "metadata": {},
   "outputs": [
    {
     "name": "stdin",
     "output_type": "stream",
     "text": [
      "Enter your age:  25\n"
     ]
    },
    {
     "name": "stdout",
     "output_type": "stream",
     "text": [
      "You are not a teenager.\n"
     ]
    }
   ],
   "source": [
    "# Input the person's age\n",
    "age = int(input(\"Enter your age: \"))\n",
    "\n",
    "# Check if the person is a teenager\n",
    "if 13 <= age <= 19:\n",
    "    print(\"You are a teenager.\")\n",
    "else:\n",
    "    print(\"You are not a teenager.\")"
   ]
  },
  {
   "cell_type": "markdown",
   "id": "4ebf77f8-fa9a-4686-a41a-c4596d2e987c",
   "metadata": {},
   "source": [
    "16. Develop a program that determines the type of angle based on its measure (acute, obtuse, or right)."
   ]
  },
  {
   "cell_type": "code",
   "execution_count": 10,
   "id": "b562654e-3cd4-4cc2-86c2-edfa10540ff4",
   "metadata": {},
   "outputs": [
    {
     "name": "stdin",
     "output_type": "stream",
     "text": [
      "Enter the measure of the angle in degrees:  30\n"
     ]
    },
    {
     "name": "stdout",
     "output_type": "stream",
     "text": [
      "The angle is Acute.\n"
     ]
    }
   ],
   "source": [
    "angle = int(input(\"Enter the measure of the angle in degrees: \"))\n",
    "\n",
    "# Check the type of angle\n",
    "if angle > 0 and angle < 90:\n",
    "    angle_type = \"Acute\"\n",
    "elif angle == 90:\n",
    "    angle_type = \"Right\"\n",
    "elif angle > 90 and angle < 180:\n",
    "    angle_type = \"Obtuse\"\n",
    "else:\n",
    "    angle_type = \"Invalid angle measure\"\n",
    "\n",
    "print(f\"The angle is {angle_type}.\")"
   ]
  },
  {
   "cell_type": "markdown",
   "id": "30987c50-bc55-4bc5-81e6-b10f3d8a51ba",
   "metadata": {},
   "source": [
    "17. Write a Python program to calculate the roots of a quadratic equation."
   ]
  },
  {
   "cell_type": "code",
   "execution_count": 12,
   "id": "1702d908-c488-4c3b-9008-1b47303f48e7",
   "metadata": {},
   "outputs": [
    {
     "name": "stdin",
     "output_type": "stream",
     "text": [
      "Enter the coefficient a:  10\n",
      "Enter the coefficient b:  20\n",
      "Enter the coefficient c:  30\n"
     ]
    },
    {
     "name": "stdout",
     "output_type": "stream",
     "text": [
      "The roots are complex.\n",
      "Root 1 = -1.0 + 1.4142135623730951i\n",
      "Root 2 = -1.0 - 1.4142135623730951i\n"
     ]
    }
   ],
   "source": [
    "import math\n",
    "\n",
    "# Input the coefficients of the quadratic equation\n",
    "a = float(input(\"Enter the coefficient a: \"))\n",
    "b = float(input(\"Enter the coefficient b: \"))\n",
    "c = float(input(\"Enter the coefficient c: \"))\n",
    "\n",
    "# Calculate the discriminant\n",
    "discriminant = b**2 - 4*a*c\n",
    "\n",
    "# Check the nature of roots\n",
    "if discriminant > 0:\n",
    "    # Two distinct real roots\n",
    "    root1 = (-b + math.sqrt(discriminant)) / (2*a)\n",
    "    root2 = (-b - math.sqrt(discriminant)) / (2*a)\n",
    "    print(\"The roots are real and distinct.\")\n",
    "    print(f\"Root 1 = {root1}\")\n",
    "    print(f\"Root 2 = {root2}\")\n",
    "elif discriminant == 0:\n",
    "    # One real root (repeated)\n",
    "    root = -b / (2*a)\n",
    "    print(\"The root is real and repeated.\")\n",
    "    print(f\"Root = {root}\")\n",
    "else:\n",
    "    # Complex roots\n",
    "    real_part = -b / (2*a)\n",
    "    imaginary_part = math.sqrt(abs(discriminant)) / (2*a)\n",
    "    print(\"The roots are complex.\")\n",
    "    print(f\"Root 1 = {real_part} + {imaginary_part}i\")\n",
    "    print(f\"Root 2 = {real_part} - {imaginary_part}i\")"
   ]
  },
  {
   "cell_type": "markdown",
   "id": "cad0d4c9-3d2d-42c0-8b68-3212b3d464c0",
   "metadata": {},
   "source": [
    "18. Implement a program to determine the day of the week based on a user-provided number (1 for Monday, 2\n",
    "for Tuesday, etc.)."
   ]
  },
  {
   "cell_type": "code",
   "execution_count": 13,
   "id": "10496595-1483-4548-a113-d932d91da80b",
   "metadata": {},
   "outputs": [
    {
     "name": "stdin",
     "output_type": "stream",
     "text": [
      "Enter a number (1-7):  3\n"
     ]
    },
    {
     "name": "stdout",
     "output_type": "stream",
     "text": [
      "The day of the week for 3 is Wednesday.\n"
     ]
    }
   ],
   "source": [
    "# Create a dictionary to map numbers to days of the week\n",
    "days_of_week = {\n",
    "    1: \"Monday\",\n",
    "    2: \"Tuesday\",\n",
    "    3: \"Wednesday\",\n",
    "    4: \"Thursday\",\n",
    "    5: \"Friday\",\n",
    "    6: \"Saturday\",\n",
    "    7: \"Sunday\"\n",
    "}\n",
    "\n",
    "number = int(input(\"Enter a number (1-7): \"))\n",
    "\n",
    "if 1 <= number <= 7:\n",
    "    day = days_of_week[number]\n",
    "    print(f\"The day of the week for {number} is {day}.\")\n",
    "else:\n",
    "    print(\"Invalid input. Please enter a number between 1 and 7.\")"
   ]
  },
  {
   "cell_type": "markdown",
   "id": "cceab79a-66c3-4407-8634-1fc099624686",
   "metadata": {},
   "source": [
    "19. Create a program that determines if a year is a leap year and also if it is evenly divisible by 400."
   ]
  },
  {
   "cell_type": "code",
   "execution_count": 14,
   "id": "9c68ff77-36a0-4ff2-b63e-d04e2949d49e",
   "metadata": {},
   "outputs": [
    {
     "name": "stdin",
     "output_type": "stream",
     "text": [
      "Enter a year:  2023\n"
     ]
    },
    {
     "name": "stdout",
     "output_type": "stream",
     "text": [
      "2023 is not a leap year.\n",
      "2023 is not evenly divisible by 400.\n"
     ]
    }
   ],
   "source": [
    "# Input a year from the user\n",
    "year = int(input(\"Enter a year: \"))\n",
    "\n",
    "# Check if it's a leap year\n",
    "is_leap_year = (year % 4 == 0 and year % 100 != 0) or (year % 400 == 0)\n",
    "\n",
    "# Check if it's evenly divisible by 400\n",
    "is_divisible_by_400 = year % 400 == 0\n",
    "\n",
    "# Display the results\n",
    "if is_leap_year:\n",
    "    print(year, \"is a leap year.\")\n",
    "else:\n",
    "    print(year, \"is not a leap year.\")\n",
    "\n",
    "if is_divisible_by_400:\n",
    "    print(year, \"is evenly divisible by 400.\")\n",
    "else:\n",
    "    print(year, \"is not evenly divisible by 400.\")"
   ]
  },
  {
   "cell_type": "markdown",
   "id": "6bcc1223-15f9-4fae-8832-11f8b2c15a8a",
   "metadata": {},
   "source": [
    "20. Develop a program that checks if a given number is prime or not using nested if-else statements."
   ]
  },
  {
   "cell_type": "code",
   "execution_count": 15,
   "id": "bd3f2633-f4f9-4521-9fea-72eb0814a7c9",
   "metadata": {},
   "outputs": [
    {
     "name": "stdin",
     "output_type": "stream",
     "text": [
      "Enter a number:  25\n"
     ]
    },
    {
     "name": "stdout",
     "output_type": "stream",
     "text": [
      "25 is not a prime number.\n"
     ]
    }
   ],
   "source": [
    "num = int(input(\"Enter a number: \"))\n",
    "\n",
    "if num <= 1:\n",
    "    is_prime = False\n",
    "else:\n",
    "    is_prime = True\n",
    "    for i in range(2, int(num**0.5) + 1):\n",
    "        if num % i == 0:\n",
    "            is_prime = False\n",
    "            break\n",
    "\n",
    "if is_prime:\n",
    "    print(num, \"is a prime number.\")\n",
    "else:\n",
    "    print(num, \"is not a prime number.\")"
   ]
  },
  {
   "cell_type": "markdown",
   "id": "73f7d2c7-6581-4240-a9a9-5740344983c1",
   "metadata": {},
   "source": [
    "Elif Statements:"
   ]
  },
  {
   "cell_type": "markdown",
   "id": "e63c74cb-3aa7-4dab-aa89-f404f986de9a",
   "metadata": {},
   "source": [
    "21. Write a Python program to assign grades based on different ranges of scores using elif statements."
   ]
  },
  {
   "cell_type": "code",
   "execution_count": 16,
   "id": "c5a95686-f3b2-4ef1-9abc-0d135e4baea8",
   "metadata": {},
   "outputs": [
    {
     "name": "stdin",
     "output_type": "stream",
     "text": [
      "Enter the student's score:  70\n"
     ]
    },
    {
     "name": "stdout",
     "output_type": "stream",
     "text": [
      "The student's grade is: C\n"
     ]
    }
   ],
   "source": [
    "score = int(input(\"Enter the student's score: \"))\n",
    "\n",
    "# Determine the grade based on different score ranges\n",
    "if 90 <= score <= 100:\n",
    "    grade = \"A\"\n",
    "elif 80 <= score < 90:\n",
    "    grade = \"B\"\n",
    "elif 70 <= score < 80:\n",
    "    grade = \"C\"\n",
    "elif 60 <= score < 70:\n",
    "    grade = \"D\"\n",
    "elif 0 <= score < 60:\n",
    "    grade = \"F\"\n",
    "else:\n",
    "    grade = \"Invalid score\"\n",
    "\n",
    "# Print the assigned grade\n",
    "print(f\"The student's grade is: {grade}\")"
   ]
  },
  {
   "cell_type": "markdown",
   "id": "9f6db1e1-061e-4a8c-944a-ab2d878af323",
   "metadata": {},
   "source": [
    "22. Implement a program to determine the type of a triangle based on its angles."
   ]
  },
  {
   "cell_type": "code",
   "execution_count": 21,
   "id": "ed05b753-c8da-49f6-a38f-7adad6c07a3f",
   "metadata": {},
   "outputs": [
    {
     "name": "stdin",
     "output_type": "stream",
     "text": [
      "Enter the first angle in degrees:  90\n",
      "Enter the second angle in degrees:  90\n",
      "Enter the third angle in degrees:  180\n"
     ]
    },
    {
     "name": "stdout",
     "output_type": "stream",
     "text": [
      "The triangle is Invalid triangle.\n"
     ]
    }
   ],
   "source": [
    "# Input the three angles of the triangle\n",
    "angle1 = float(input(\"Enter the first angle in degrees: \"))\n",
    "angle2 = float(input(\"Enter the second angle in degrees: \"))\n",
    "angle3 = float(input(\"Enter the third angle in degrees: \"))\n",
    "\n",
    "# Check the type of triangle\n",
    "if angle1 + angle2 + angle3 == 180:\n",
    "    if angle1 < 90 and angle2 < 90 and angle3 < 90:\n",
    "        triangle_type = \"Acute\"\n",
    "    elif angle1 == 90 or angle2 == 90 or angle3 == 90:\n",
    "        triangle_type = \"Right\"\n",
    "    else:\n",
    "        triangle_type = \"Obtuse\"\n",
    "else:\n",
    "    triangle_type = \"Invalid triangle\"\n",
    "\n",
    "# Print the type of triangle\n",
    "print(f\"The triangle is {triangle_type}.\")"
   ]
  },
  {
   "cell_type": "markdown",
   "id": "33851dda-f674-46e5-a927-c7b45e894a6d",
   "metadata": {},
   "source": [
    "23. Develop a program to categorize a given person's BMI into underweight, normal, overweight, or obese using\n",
    "elif statements."
   ]
  },
  {
   "cell_type": "code",
   "execution_count": 22,
   "id": "d3a82137-ff73-4486-a3f6-b2ce223deaf1",
   "metadata": {},
   "outputs": [
    {
     "name": "stdin",
     "output_type": "stream",
     "text": [
      "Enter weight (kg):  50\n",
      "Enter height (m):  50\n"
     ]
    },
    {
     "name": "stdout",
     "output_type": "stream",
     "text": [
      "BMI is 0.02, which is classified as Underweight.\n"
     ]
    }
   ],
   "source": [
    "weight = float(input(\"Enter weight (kg): \"))\n",
    "height = float(input(\"Enter height (m): \"))\n",
    "\n",
    "# Calculate BMI (BMI = weight / (height * height))\n",
    "bmi = weight / (height ** 2)\n",
    "\n",
    "# Determine the BMI category\n",
    "if bmi < 18.5:\n",
    "    category = \"Underweight\"\n",
    "elif 18.5 <= bmi < 24.9:\n",
    "    category = \"Normal\"\n",
    "elif 24.9 <= bmi < 29.9:\n",
    "    category = \"Overweight\"\n",
    "else:\n",
    "    category = \"Obese\"\n",
    "\n",
    "# Print the BMI category\n",
    "print(f\"BMI is {bmi:.2f}, which is classified as {category}.\")"
   ]
  },
  {
   "cell_type": "markdown",
   "id": "0ccc8cbb-de1d-4ada-b5e4-4d96c8c55e02",
   "metadata": {},
   "source": [
    "24. Create a program that determines whether a given number is positive, negative, or zero using elif\n",
    "statements."
   ]
  },
  {
   "cell_type": "code",
   "execution_count": 23,
   "id": "cf7f2385-d9cd-4c3f-ba8f-26191d922de8",
   "metadata": {},
   "outputs": [
    {
     "name": "stdin",
     "output_type": "stream",
     "text": [
      "Enter a number:  50\n"
     ]
    },
    {
     "name": "stdout",
     "output_type": "stream",
     "text": [
      "The number is positive.\n"
     ]
    }
   ],
   "source": [
    "num = float(input(\"Enter a number: \"))\n",
    "\n",
    "# Determine if the number is positive, negative, or zero using elif statements\n",
    "if num > 0:\n",
    "    print(\"The number is positive.\")\n",
    "elif num < 0:\n",
    "    print(\"The number is negative.\")\n",
    "else:\n",
    "    print(\"The number is zero.\")"
   ]
  },
  {
   "cell_type": "markdown",
   "id": "d44dceef-dd5c-44f4-aed6-fadc460aad89",
   "metadata": {},
   "source": [
    "25. Write a Python script to determine the type of a character (uppercase, lowercase, or special) using elif\n",
    "statements."
   ]
  },
  {
   "cell_type": "code",
   "execution_count": 24,
   "id": "aa57ed3a-3ae5-4deb-8e85-94279dcbcc38",
   "metadata": {},
   "outputs": [
    {
     "name": "stdin",
     "output_type": "stream",
     "text": [
      "Enter a character:  shweta\n"
     ]
    },
    {
     "name": "stdout",
     "output_type": "stream",
     "text": [
      "The character is lowercase.\n"
     ]
    }
   ],
   "source": [
    "char = input(\"Enter a character: \")\n",
    "\n",
    "# Determine the type of character using elif statements\n",
    "if char.isupper():\n",
    "    print(\"The character is uppercase.\")\n",
    "elif char.islower():\n",
    "    print(\"The character is lowercase.\")\n",
    "else:\n",
    "    print(\"The character is special (not uppercase or lowercase).\")"
   ]
  },
  {
   "cell_type": "markdown",
   "id": "651dc991-fdbd-4b52-9865-c1335a8abae1",
   "metadata": {},
   "source": [
    "26. Implement a program to calculate the discounted price based on different purchase amounts using elif\n",
    "statements."
   ]
  },
  {
   "cell_type": "code",
   "execution_count": 25,
   "id": "5ab972ff-dc21-4f40-9e74-8829e316b07d",
   "metadata": {},
   "outputs": [
    {
     "name": "stdin",
     "output_type": "stream",
     "text": [
      "Enter the purchase amount:  60\n"
     ]
    },
    {
     "name": "stdout",
     "output_type": "stream",
     "text": [
      "The discounted price is: $60.00\n"
     ]
    }
   ],
   "source": [
    "# Input the purchase amount from the user\n",
    "purchase_amount = float(input(\"Enter the purchase amount: \"))\n",
    "\n",
    "discount_rate = 0.0\n",
    "discounted_price = 0.0\n",
    "\n",
    "# Determine the discount rate and calculate the discounted price using elif statements\n",
    "if purchase_amount >= 1000:\n",
    "    discount_rate = 0.10  # 10% discount for purchases of $1000 or more\n",
    "elif purchase_amount >= 500:\n",
    "    discount_rate = 0.05  # 5% discount for purchases of $500 or more\n",
    "\n",
    "# Calculate the discounted price\n",
    "discounted_price = purchase_amount * (1 - discount_rate)\n",
    "\n",
    "# Print the discounted price\n",
    "print(f\"The discounted price is: ${discounted_price:.2f}\")"
   ]
  },
  {
   "cell_type": "markdown",
   "id": "ecdf9d71-57d3-4936-8f85-89cc9d143aa3",
   "metadata": {},
   "source": [
    "27. Develop a program to calculate the electricity bill based on different consumption slabs using elif\n",
    "statements."
   ]
  },
  {
   "cell_type": "code",
   "execution_count": 26,
   "id": "9ab286d5-2286-4e12-83f9-0a328d15e390",
   "metadata": {},
   "outputs": [
    {
     "name": "stdin",
     "output_type": "stream",
     "text": [
      "Enter the electricity consumption in kWh:  90\n"
     ]
    },
    {
     "name": "stdout",
     "output_type": "stream",
     "text": [
      "The electricity bill is: $13.50\n"
     ]
    }
   ],
   "source": [
    "consumption = float(input(\"Enter the electricity consumption in kWh: \"))\n",
    "\n",
    "# Initialize variables for rates and the total bill\n",
    "rate_slab1 = 0.15  # Rate for the first 100 kWh\n",
    "rate_slab2 = 0.20  # Rate for the next 200 kWh\n",
    "rate_slab3 = 0.25  # Rate for consumption over 300 kWh\n",
    "total_bill = 0.0\n",
    "\n",
    "# Determine the electricity bill based on different consumption slabs using elif statements\n",
    "if consumption <= 100:\n",
    "    total_bill = consumption * rate_slab1\n",
    "elif consumption <= 300:\n",
    "    total_bill = 100 * rate_slab1 + (consumption - 100) * rate_slab2\n",
    "else:\n",
    "    total_bill = 100 * rate_slab1 + 200 * rate_slab2 + (consumption - 300) * rate_slab3\n",
    "\n",
    "# Print the electricity bill\n",
    "print(f\"The electricity bill is: ${total_bill:.2f}\")"
   ]
  },
  {
   "cell_type": "markdown",
   "id": "e851dd8e-aba0-4b17-aabc-c181851baced",
   "metadata": {},
   "source": [
    "28. Create a program to determine the type of quadrilateral based on its angles and sides using elif\n",
    "statements."
   ]
  },
  {
   "cell_type": "code",
   "execution_count": 27,
   "id": "ba16b310-e127-4d78-8a55-58fdb3e47420",
   "metadata": {},
   "outputs": [
    {
     "name": "stdin",
     "output_type": "stream",
     "text": [
      "Enter the first angle in degrees:  30\n",
      "Enter the second angle in degrees:  40\n",
      "Enter the third angle in degrees:  40\n",
      "Enter the fourth angle in degrees:  40\n",
      "Enter the length of the first side:  40\n",
      "Enter the length of the second side:  40\n",
      "Enter the length of the third side:  40\n",
      "Enter the length of the fourth side:  40\n"
     ]
    },
    {
     "name": "stdout",
     "output_type": "stream",
     "text": [
      "The quadrilateral is a Quadrilateral.\n"
     ]
    }
   ],
   "source": [
    "# Input the angles and sides of the quadrilateral\n",
    "angle1 = float(input(\"Enter the first angle in degrees: \"))\n",
    "angle2 = float(input(\"Enter the second angle in degrees: \"))\n",
    "angle3 = float(input(\"Enter the third angle in degrees: \"))\n",
    "angle4 = float(input(\"Enter the fourth angle in degrees: \"))\n",
    "side1 = float(input(\"Enter the length of the first side: \"))\n",
    "side2 = float(input(\"Enter the length of the second side: \"))\n",
    "side3 = float(input(\"Enter the length of the third side: \"))\n",
    "side4 = float(input(\"Enter the length of the fourth side: \"))\n",
    "\n",
    "# Determine the type of quadrilateral using elif statements\n",
    "if angle1 == angle2 == angle3 == angle4 == 90:\n",
    "    if side1 == side2 == side3 == side4:\n",
    "        quadrilateral_type = \"Square\"\n",
    "    elif side1 == side3 and side2 == side4:\n",
    "        quadrilateral_type = \"Rectangle\"\n",
    "    else:\n",
    "        quadrilateral_type = \"Quadrilateral\"\n",
    "elif angle1 == angle3 and angle2 == angle4:\n",
    "    if side1 == side2 and side3 == side4:\n",
    "        quadrilateral_type = \"Rhombus\"\n",
    "    else:\n",
    "        quadrilateral_type = \"Quadrilateral\"\n",
    "else:\n",
    "    quadrilateral_type = \"Quadrilateral\"\n",
    "\n",
    "# Print the type of quadrilateral\n",
    "print(f\"The quadrilateral is a {quadrilateral_type}.\")"
   ]
  },
  {
   "cell_type": "markdown",
   "id": "ff4ff2c4-9346-495d-b423-766b94d87c6e",
   "metadata": {},
   "source": [
    "29. Write a Python script to determine the season based on a user-provided month using elif statements."
   ]
  },
  {
   "cell_type": "code",
   "execution_count": 28,
   "id": "8d5b524d-da44-4098-8f99-3a3442ad94c1",
   "metadata": {},
   "outputs": [
    {
     "name": "stdin",
     "output_type": "stream",
     "text": [
      "Enter a month january\n"
     ]
    },
    {
     "name": "stdout",
     "output_type": "stream",
     "text": [
      "The season for January is Winter.\n"
     ]
    }
   ],
   "source": [
    "# Input the month from the user\n",
    "month = input(\"Enter a month\")\n",
    "\n",
    "# Convert the input to lowercase to handle different capitalization\n",
    "month = month.lower()\n",
    "\n",
    "# Determine the season based on the month using elif statements\n",
    "if month in [\"december\", \"january\", \"february\"]:\n",
    "    season = \"Winter\"\n",
    "elif month in [\"march\", \"april\", \"may\"]:\n",
    "    season = \"Spring\"\n",
    "elif month in [\"june\", \"july\", \"august\"]:\n",
    "    season = \"Summer\"\n",
    "elif month in [\"september\", \"october\", \"november\"]:\n",
    "    season = \"Fall\"\n",
    "else:\n",
    "    season = \"Invalid month\"\n",
    "\n",
    "# Print the determined season\n",
    "if season != \"Invalid month\":\n",
    "    print(f\"The season for {month.capitalize()} is {season}.\")\n",
    "else:\n",
    "    print(\"Invalid input. Please enter a valid month.\")\n"
   ]
  },
  {
   "cell_type": "markdown",
   "id": "80e7e127-33ce-4197-a7fd-b45637d8ed18",
   "metadata": {},
   "source": [
    "30. Implement a program to determine the type of a year (leap or common) and month (30 or 31 days) using\n",
    "elif statements."
   ]
  },
  {
   "cell_type": "code",
   "execution_count": 29,
   "id": "83629818-4d29-4c03-ae95-1880830b73c1",
   "metadata": {},
   "outputs": [
    {
     "name": "stdin",
     "output_type": "stream",
     "text": [
      "Enter a year:  2023\n",
      "Enter a month (e.g., January, February, etc.):  january\n"
     ]
    },
    {
     "name": "stdout",
     "output_type": "stream",
     "text": [
      "The year 2023 is a Common year, and January has 31 days.\n"
     ]
    }
   ],
   "source": [
    "year = int(input(\"Enter a year: \"))\n",
    "month = input(\"Enter a month (e.g., January, February, etc.): \")\n",
    "\n",
    "# Convert the input month to lowercase to handle different capitalization\n",
    "month = month.lower()\n",
    "\n",
    "# Determine the type of year (leap or common) using elif statements\n",
    "if (year % 4 == 0 and year % 100 != 0) or (year % 400 == 0):\n",
    "    year_type = \"Leap\"\n",
    "else:\n",
    "    year_type = \"Common\"\n",
    "\n",
    "# Determine the number of days in the month using elif statements\n",
    "if month in [\"january\", \"march\", \"may\", \"july\", \"august\", \"october\", \"december\"]:\n",
    "    month_days = 31\n",
    "elif month in [\"april\", \"june\", \"september\", \"november\"]:\n",
    "    month_days = 30\n",
    "elif month == \"february\":\n",
    "    if year_type == \"Leap\":\n",
    "        month_days = 29\n",
    "    else:\n",
    "        month_days = 28\n",
    "else:\n",
    "    year_type = \"Invalid\"\n",
    "    month_days = \"Invalid\"\n",
    "\n",
    "# Print the determined year type and number of days in the month\n",
    "if year_type != \"Invalid\" and month_days != \"Invalid\":\n",
    "    print(f\"The year {year} is a {year_type} year, and {month.capitalize()} has {month_days} days.\")\n",
    "else:\n",
    "    print(\"Invalid input. Please enter a valid year and month.\")"
   ]
  },
  {
   "cell_type": "markdown",
   "id": "8a84a11b-d463-48e6-bdd3-4240392d89ee",
   "metadata": {},
   "source": [
    "Basic Level:"
   ]
  },
  {
   "cell_type": "markdown",
   "id": "0095ffdb-8d57-474b-be2d-8642f74f0a4e",
   "metadata": {},
   "source": [
    "1. Write a Python program that checks if a given number is positive, negative, or zero."
   ]
  },
  {
   "cell_type": "code",
   "execution_count": 30,
   "id": "228542b9-abb2-46ab-b5d2-d25ce959a8eb",
   "metadata": {},
   "outputs": [
    {
     "name": "stdin",
     "output_type": "stream",
     "text": [
      "Enter a number:  10\n"
     ]
    },
    {
     "name": "stdout",
     "output_type": "stream",
     "text": [
      "The number is positive.\n"
     ]
    }
   ],
   "source": [
    "num = int(input(\"Enter a number: \"))\n",
    "\n",
    "# Check if the number is positive, negative, or zero\n",
    "if num > 0:\n",
    "    print(\"The number is positive.\")\n",
    "elif num < 0:\n",
    "    print(\"The number is negative.\")\n",
    "else:\n",
    "    print(\"The number is zero.\")"
   ]
  },
  {
   "cell_type": "markdown",
   "id": "59c63bb9-4643-45d8-a0ff-5a11136247e8",
   "metadata": {},
   "source": [
    "2. Create a program to determine if a person is eligible to vote based on their age."
   ]
  },
  {
   "cell_type": "code",
   "execution_count": 31,
   "id": "5f7b5085-e6f5-4677-b323-0f79d60e55a8",
   "metadata": {},
   "outputs": [
    {
     "name": "stdin",
     "output_type": "stream",
     "text": [
      "Enter your age:  90\n"
     ]
    },
    {
     "name": "stdout",
     "output_type": "stream",
     "text": [
      "You are eligible to vote.\n"
     ]
    }
   ],
   "source": [
    "age = int(input(\"Enter your age: \"))\n",
    "\n",
    "# Check if the person is eligible to vote\n",
    "if age >= 18:\n",
    "    print(\"You are eligible to vote.\")\n",
    "else:\n",
    "    print(\"You are not eligible to vote.\")"
   ]
  },
  {
   "cell_type": "markdown",
   "id": "20d72429-b316-4e81-b581-545e8bc51a19",
   "metadata": {},
   "source": [
    "3. Write a program to find the maximum of two given numbers using conditional statements."
   ]
  },
  {
   "cell_type": "code",
   "execution_count": 33,
   "id": "68d27929-50ad-46c5-ada9-b773e3b4ef0b",
   "metadata": {},
   "outputs": [
    {
     "name": "stdin",
     "output_type": "stream",
     "text": [
      "Enter the first number:  10\n",
      "Enter the second number:  20\n"
     ]
    },
    {
     "name": "stdout",
     "output_type": "stream",
     "text": [
      "The maximum number is: 20\n"
     ]
    }
   ],
   "source": [
    "num1 = int(input(\"Enter the first number: \"))\n",
    "num2 = int(input(\"Enter the second number: \"))\n",
    "\n",
    "# Find the maximum using conditional statements\n",
    "if num1 > num2:\n",
    "    max_num = num1\n",
    "else:\n",
    "    max_num = num2\n",
    "\n",
    "# Print the maximum number\n",
    "print(\"The maximum number is:\", max_num)"
   ]
  },
  {
   "cell_type": "markdown",
   "id": "4193760c-6cdb-4af1-b6de-cc8ab9db7259",
   "metadata": {},
   "source": [
    "4. Develop a program that calculates the grade of a student based on their exam score."
   ]
  },
  {
   "cell_type": "code",
   "execution_count": 34,
   "id": "b45f3769-a714-4da9-a7de-d4de5e7ce3a9",
   "metadata": {},
   "outputs": [
    {
     "name": "stdin",
     "output_type": "stream",
     "text": [
      "Enter the exam score:  70\n"
     ]
    },
    {
     "name": "stdout",
     "output_type": "stream",
     "text": [
      "The student's grade is: C\n"
     ]
    }
   ],
   "source": [
    "exam_score = float(input(\"Enter the exam score: \"))\n",
    "\n",
    "# Determine the grade based on the exam score using conditional statements\n",
    "if 90 <= exam_score <= 100:\n",
    "    grade = \"A\"\n",
    "elif 80 <= exam_score < 90:\n",
    "    grade = \"B\"\n",
    "elif 70 <= exam_score < 80:\n",
    "    grade = \"C\"\n",
    "elif 60 <= exam_score < 70:\n",
    "    grade = \"D\"\n",
    "elif 0 <= exam_score < 60:\n",
    "    grade = \"F\"\n",
    "else:\n",
    "    grade = \"Invalid score\"\n",
    "\n",
    "# Print the assigned grade\n",
    "if grade != \"Invalid score\":\n",
    "    print(f\"The student's grade is: {grade}\")\n",
    "else:\n",
    "    print(\"Invalid score. Please enter a valid exam score.\")"
   ]
  },
  {
   "cell_type": "markdown",
   "id": "9fd9034f-ce22-4ba1-af55-a7a31c262046",
   "metadata": {},
   "source": [
    "5. Create a program that checks if a year is a leap year or not."
   ]
  },
  {
   "cell_type": "code",
   "execution_count": 36,
   "id": "5fd5b4d6-c240-45c2-afcc-bae6faf3c65f",
   "metadata": {},
   "outputs": [
    {
     "name": "stdin",
     "output_type": "stream",
     "text": [
      "Enter a year:  2024\n"
     ]
    },
    {
     "name": "stdout",
     "output_type": "stream",
     "text": [
      "2024 is a leap year.\n"
     ]
    }
   ],
   "source": [
    "# Input the year from the user\n",
    "year = int(input(\"Enter a year: \"))\n",
    "\n",
    "# Check if it's a leap year using conditional statements\n",
    "if (year % 4 == 0 and year % 100 != 0) or (year % 400 == 0):\n",
    "    print(f\"{year} is a leap year.\")\n",
    "else:\n",
    "    print(f\"{year} is not a leap year.\")"
   ]
  },
  {
   "cell_type": "markdown",
   "id": "1b75d62b-e895-4564-9a68-a90380047032",
   "metadata": {},
   "source": [
    "6. Write a program to classify a triangle based on its sides' lengths."
   ]
  },
  {
   "cell_type": "code",
   "execution_count": 37,
   "id": "e49bb3f2-d2cb-4701-81a4-e1c27dff57a1",
   "metadata": {},
   "outputs": [
    {
     "name": "stdin",
     "output_type": "stream",
     "text": [
      "Enter the length of the first side:  10\n",
      "Enter the length of the second side:  10\n",
      "Enter the length of the third side:  10\n"
     ]
    },
    {
     "name": "stdout",
     "output_type": "stream",
     "text": [
      "The triangle is Equilateral.\n"
     ]
    }
   ],
   "source": [
    "side1 = float(input(\"Enter the length of the first side: \"))\n",
    "side2 = float(input(\"Enter the length of the second side: \"))\n",
    "side3 = float(input(\"Enter the length of the third side: \"))\n",
    "\n",
    "# Check the type of triangle based on side lengths using conditional statements\n",
    "if side1 == side2 == side3:\n",
    "    triangle_type = \"Equilateral\"\n",
    "elif side1 == side2 or side1 == side3 or side2 == side3:\n",
    "    triangle_type = \"Isosceles\"\n",
    "else:\n",
    "    triangle_type = \"Scalene\"\n",
    "\n",
    "# Print the type of triangle\n",
    "print(f\"The triangle is {triangle_type}.\")"
   ]
  },
  {
   "cell_type": "markdown",
   "id": "2d60cc6e-723f-4b5e-a27d-fd8e9fed79df",
   "metadata": {},
   "source": [
    "7. Build a program that determines the largest of three given numbers."
   ]
  },
  {
   "cell_type": "code",
   "execution_count": 38,
   "id": "8b369eaa-5fee-427f-abde-efda576e5f06",
   "metadata": {},
   "outputs": [
    {
     "name": "stdin",
     "output_type": "stream",
     "text": [
      "Enter the first number:  40.5\n",
      "Enter the second number:  30.5\n",
      "Enter the third number:  80.5\n"
     ]
    },
    {
     "name": "stdout",
     "output_type": "stream",
     "text": [
      "The largest number is: 80.5\n"
     ]
    }
   ],
   "source": [
    "num1 = float(input(\"Enter the first number: \"))\n",
    "num2 = float(input(\"Enter the second number: \"))\n",
    "num3 = float(input(\"Enter the third number: \"))\n",
    "\n",
    "# Determine the largest number using conditional statements\n",
    "if num1 >= num2 and num1 >= num3:\n",
    "    largest_num = num1\n",
    "elif num2 >= num1 and num2 >= num3:\n",
    "    largest_num = num2\n",
    "else:\n",
    "    largest_num = num3\n",
    "\n",
    "# Print the largest number\n",
    "print(\"The largest number is:\", largest_num)"
   ]
  },
  {
   "cell_type": "markdown",
   "id": "90e9f48d-7b91-405c-be23-53544b0fb12d",
   "metadata": {},
   "source": [
    "8. Develop a program that checks whether a character is a vowel or a consonant."
   ]
  },
  {
   "cell_type": "code",
   "execution_count": 40,
   "id": "2eb59538-2fd9-4530-99dc-26070453242c",
   "metadata": {},
   "outputs": [
    {
     "name": "stdin",
     "output_type": "stream",
     "text": [
      "Enter a character:  a\n"
     ]
    },
    {
     "name": "stdout",
     "output_type": "stream",
     "text": [
      "The character 'a' is a vowel.\n"
     ]
    }
   ],
   "source": [
    "char = input(\"Enter a character: \")\n",
    "\n",
    "# Convert the input character to lowercase for case-insensitive checking\n",
    "char = char.lower()\n",
    "\n",
    "# Check if the character is a vowel or a consonant using conditional statements\n",
    "if char.isalpha() and len(char) == 1:\n",
    "    if char in ['a', 'e', 'i', 'o', 'u']:\n",
    "        print(f\"The character '{char}' is a vowel.\")\n",
    "    else:\n",
    "        print(f\"The character '{char}' is a consonant.\")\n",
    "else:\n",
    "    print(\"Invalid input. Please enter a single alphabet character.\")"
   ]
  },
  {
   "cell_type": "markdown",
   "id": "d0ff043a-0a7c-4839-a524-dd3f6c3252ac",
   "metadata": {},
   "source": [
    "9. Create a program to calculate the total cost of a shopping cart based on discounts."
   ]
  },
  {
   "cell_type": "code",
   "execution_count": 41,
   "id": "2e5def66-f21f-40cf-adae-2d6641d0b66a",
   "metadata": {},
   "outputs": [
    {
     "name": "stdout",
     "output_type": "stream",
     "text": [
      "Total cost before discounts: $85.00\n",
      "Total cost after discounts: $76.50\n"
     ]
    }
   ],
   "source": [
    "item_prices = {\n",
    "    \"item1\": 10.0,\n",
    "    \"item2\": 15.0,\n",
    "    \"item3\": 20.0,\n",
    "}\n",
    "\n",
    "item_quantities = {\n",
    "    \"item1\": 2,\n",
    "    \"item2\": 3,\n",
    "    \"item3\": 1,\n",
    "}\n",
    "\n",
    "# Calculate the total cost before discounts\n",
    "total_cost_before_discounts = sum(item_prices[item] * item_quantities[item] for item in item_prices)\n",
    "\n",
    "# Apply discounts based on total cost\n",
    "if total_cost_before_discounts >= 50:\n",
    "    discount_percentage = 10  # 10% discount for total cost >= $50\n",
    "    discount_amount = (discount_percentage / 100) * total_cost_before_discounts\n",
    "    total_cost_after_discounts = total_cost_before_discounts - discount_amount\n",
    "else:\n",
    "    total_cost_after_discounts = total_cost_before_discounts\n",
    "\n",
    "# Print the total cost before and after discounts\n",
    "print(f\"Total cost before discounts: ${total_cost_before_discounts:.2f}\")\n",
    "print(f\"Total cost after discounts: ${total_cost_after_discounts:.2f}\")"
   ]
  },
  {
   "cell_type": "markdown",
   "id": "5cf11a76-d0b8-4ba5-8fad-79bf49e10510",
   "metadata": {},
   "source": [
    "10. Write a program that checks if a given number is even or odd."
   ]
  },
  {
   "cell_type": "code",
   "execution_count": 42,
   "id": "63327b32-0a2b-4a57-82cb-8d3d4fae0d26",
   "metadata": {},
   "outputs": [
    {
     "name": "stdin",
     "output_type": "stream",
     "text": [
      "Enter a number:  10\n"
     ]
    },
    {
     "name": "stdout",
     "output_type": "stream",
     "text": [
      "10 is even.\n"
     ]
    }
   ],
   "source": [
    "number = int(input(\"Enter a number: \"))\n",
    "\n",
    "# Check if the number is even or odd using the modulo operator (%)\n",
    "if number % 2 == 0:\n",
    "    print(f\"{number} is even.\")\n",
    "else:\n",
    "    print(f\"{number} is odd.\")"
   ]
  },
  {
   "cell_type": "markdown",
   "id": "f048c225-8752-48ab-b745-e20794079e22",
   "metadata": {},
   "source": [
    "Intermediate Level:"
   ]
  },
  {
   "cell_type": "markdown",
   "id": "bd54ea41-0feb-4a3d-ae1f-036c23be3bd4",
   "metadata": {},
   "source": [
    "11. Write a program that calculates the roots of a quadratic equation ."
   ]
  },
  {
   "cell_type": "code",
   "execution_count": 43,
   "id": "fbbeb161-ac8e-4a76-9fbd-4bb6bc9346ba",
   "metadata": {},
   "outputs": [
    {
     "name": "stdin",
     "output_type": "stream",
     "text": [
      "Enter the coefficient a:  10\n",
      "Enter the coefficient b:  10\n",
      "Enter the coefficient c:  10\n"
     ]
    },
    {
     "name": "stdout",
     "output_type": "stream",
     "text": [
      "The roots are complex: -0.5 + 0.8660254037844387i and -0.5 - 0.8660254037844387i\n"
     ]
    }
   ],
   "source": [
    "import math\n",
    "\n",
    "# Input coefficients a, b, and c from the user\n",
    "a = float(input(\"Enter the coefficient a: \"))\n",
    "b = float(input(\"Enter the coefficient b: \"))\n",
    "c = float(input(\"Enter the coefficient c: \"))\n",
    "\n",
    "# Calculate the discriminant (the value inside the square root)\n",
    "discriminant = b**2 - 4 * a * c\n",
    "\n",
    "# Check if the discriminant is positive, zero, or negative\n",
    "if discriminant > 0:\n",
    "    # Two real and distinct roots\n",
    "    root1 = (-b + math.sqrt(discriminant)) / (2 * a)\n",
    "    root2 = (-b - math.sqrt(discriminant)) / (2 * a)\n",
    "    print(f\"The roots are real and distinct: {root1} and {root2}\")\n",
    "elif discriminant == 0:\n",
    "    # One real root (a repeated root)\n",
    "    root = -b / (2 * a)\n",
    "    print(f\"There is one real root (repeated): {root}\")\n",
    "else:\n",
    "    # Complex roots (no real roots)\n",
    "    real_part = -b / (2 * a)\n",
    "    imaginary_part = math.sqrt(-discriminant) / (2 * a)\n",
    "    print(f\"The roots are complex: {real_part} + {imaginary_part}i and {real_part} - {imaginary_part}i\")"
   ]
  },
  {
   "cell_type": "markdown",
   "id": "d3592f06-dcf8-466b-b8c9-a076baf89f17",
   "metadata": {},
   "source": [
    "12. Create a program that determines the day of the week based on the day number (1-7)."
   ]
  },
  {
   "cell_type": "code",
   "execution_count": 45,
   "id": "f6ef5d12-2ac0-44bc-8136-db5448a5c4b9",
   "metadata": {},
   "outputs": [
    {
     "name": "stdin",
     "output_type": "stream",
     "text": [
      "Enter a day number (1-7):  2\n"
     ]
    },
    {
     "name": "stdout",
     "output_type": "stream",
     "text": [
      "Day number 2 corresponds to Tuesday.\n"
     ]
    }
   ],
   "source": [
    "day_number = int(input(\"Enter a day number (1-7): \"))\n",
    "\n",
    "# Determine the day of the week using conditional statements\n",
    "if day_number == 1:\n",
    "    day_name = \"Monday\"\n",
    "elif day_number == 2:\n",
    "    day_name = \"Tuesday\"\n",
    "elif day_number == 3:\n",
    "    day_name = \"Wednesday\"\n",
    "elif day_number == 4:\n",
    "    day_name = \"Thursday\"\n",
    "elif day_number == 5:\n",
    "    day_name = \"Friday\"\n",
    "elif day_number == 6:\n",
    "    day_name = \"Saturday\"\n",
    "elif day_number == 7:\n",
    "    day_name = \"Sunday\"\n",
    "else:\n",
    "    day_name = \"Invalid day number\"\n",
    "\n",
    "# Print the day of the week\n",
    "if day_name != \"Invalid day number\":\n",
    "    print(f\"Day number {day_number} corresponds to {day_name}.\")\n",
    "else:\n",
    "    print(\"Invalid input. Please enter a valid day number (1-7).\")"
   ]
  },
  {
   "cell_type": "markdown",
   "id": "9ce8e94f-9e3f-4383-862a-9433d3a5ae27",
   "metadata": {},
   "source": [
    "13. Develop a program that calculates the factorial of a given number using recursion."
   ]
  },
  {
   "cell_type": "code",
   "execution_count": 46,
   "id": "4b19329e-b6ae-4211-828f-768726ec7b32",
   "metadata": {},
   "outputs": [
    {
     "name": "stdin",
     "output_type": "stream",
     "text": [
      "Enter a non-negative integer:  5\n"
     ]
    },
    {
     "name": "stdout",
     "output_type": "stream",
     "text": [
      "5! = 120\n"
     ]
    }
   ],
   "source": [
    "def factorial(n):\n",
    "    if n == 0:\n",
    "        return 1  # Base case: 0! = 1\n",
    "    else:\n",
    "        return n * factorial(n - 1)\n",
    "\n",
    "# Input a non-negative integer from the user\n",
    "num = int(input(\"Enter a non-negative integer: \"))\n",
    "\n",
    "# Check if the input is non-negative\n",
    "if num < 0:\n",
    "    print(\"Factorial is not defined for negative numbers.\")\n",
    "else:\n",
    "    result = factorial(num)\n",
    "    print(f\"{num}! = {result}\")"
   ]
  },
  {
   "cell_type": "markdown",
   "id": "44e7ae5b-3306-43cf-a45f-be256794b8f1",
   "metadata": {},
   "source": [
    "14. Write a program to find the largest among three numbers without using the `max()` function."
   ]
  },
  {
   "cell_type": "code",
   "execution_count": 48,
   "id": "4c0f8da3-de12-44fe-95cf-e517e98579bb",
   "metadata": {},
   "outputs": [
    {
     "name": "stdin",
     "output_type": "stream",
     "text": [
      "Enter the first number:  20.5\n",
      "Enter the second number:  30.5\n",
      "Enter the third number:  50.5\n"
     ]
    },
    {
     "name": "stdout",
     "output_type": "stream",
     "text": [
      "The largest number is: 50.5\n"
     ]
    }
   ],
   "source": [
    "num1 = float(input(\"Enter the first number: \"))\n",
    "num2 = float(input(\"Enter the second number: \"))\n",
    "num3 = float(input(\"Enter the third number: \"))\n",
    "\n",
    "# Initialize a variable to store the largest number\n",
    "largest_num = num1\n",
    "\n",
    "# Compare the second number with the current largest\n",
    "if num2 > largest_num:\n",
    "    largest_num = num2\n",
    "\n",
    "# Compare the third number with the current largest\n",
    "if num3 > largest_num:\n",
    "    largest_num = num3\n",
    "\n",
    "# Print the largest number\n",
    "print(\"The largest number is:\", largest_num)"
   ]
  },
  {
   "cell_type": "markdown",
   "id": "2d33dcc0-1d31-4c64-8f05-b22d9efb6d75",
   "metadata": {},
   "source": [
    "15. Create a program that simulates a basic ATM transaction menu."
   ]
  },
  {
   "cell_type": "code",
   "execution_count": 49,
   "id": "976e5ee8-0a21-4c9f-b74e-0f9d4e634d4c",
   "metadata": {},
   "outputs": [
    {
     "name": "stdout",
     "output_type": "stream",
     "text": [
      "\n",
      "ATM Menu:\n",
      "1. Check Balance\n",
      "2. Deposit Money\n",
      "3. Withdraw Money\n",
      "4. Exit\n"
     ]
    },
    {
     "name": "stdin",
     "output_type": "stream",
     "text": [
      "Enter your choice (1/2/3/4):  1\n"
     ]
    },
    {
     "name": "stdout",
     "output_type": "stream",
     "text": [
      "Your account balance is $1000.00\n",
      "\n",
      "ATM Menu:\n",
      "1. Check Balance\n",
      "2. Deposit Money\n",
      "3. Withdraw Money\n",
      "4. Exit\n"
     ]
    },
    {
     "name": "stdin",
     "output_type": "stream",
     "text": [
      "Enter your choice (1/2/3/4):  2\n",
      "Enter the deposit amount:  300\n"
     ]
    },
    {
     "name": "stdout",
     "output_type": "stream",
     "text": [
      "Deposit successful. Your new balance is $1300.00\n",
      "\n",
      "ATM Menu:\n",
      "1. Check Balance\n",
      "2. Deposit Money\n",
      "3. Withdraw Money\n",
      "4. Exit\n"
     ]
    },
    {
     "name": "stdin",
     "output_type": "stream",
     "text": [
      "Enter your choice (1/2/3/4):  500\n"
     ]
    },
    {
     "name": "stdout",
     "output_type": "stream",
     "text": [
      "Invalid choice. Please select a valid option (1/2/3/4).\n",
      "\n",
      "ATM Menu:\n",
      "1. Check Balance\n",
      "2. Deposit Money\n",
      "3. Withdraw Money\n",
      "4. Exit\n"
     ]
    },
    {
     "name": "stdin",
     "output_type": "stream",
     "text": [
      "Enter your choice (1/2/3/4):  3\n",
      "Enter the withdrawal amount:  30000\n"
     ]
    },
    {
     "name": "stdout",
     "output_type": "stream",
     "text": [
      "Insufficient funds. Withdrawal canceled.\n",
      "\n",
      "ATM Menu:\n",
      "1. Check Balance\n",
      "2. Deposit Money\n",
      "3. Withdraw Money\n",
      "4. Exit\n"
     ]
    },
    {
     "name": "stdin",
     "output_type": "stream",
     "text": [
      "Enter your choice (1/2/3/4):  4\n"
     ]
    },
    {
     "name": "stdout",
     "output_type": "stream",
     "text": [
      "Thank you for using the ATM. Have a nice day!\n"
     ]
    }
   ],
   "source": [
    "# Initialize the account balance\n",
    "balance = 1000.0\n",
    "\n",
    "# Function to display the ATM menu and perform transactions\n",
    "def display_menu():\n",
    "    print(\"\\nATM Menu:\")\n",
    "    print(\"1. Check Balance\")\n",
    "    print(\"2. Deposit Money\")\n",
    "    print(\"3. Withdraw Money\")\n",
    "    print(\"4. Exit\")\n",
    "\n",
    "# Main program loop\n",
    "while True:\n",
    "    display_menu()  # Display the menu\n",
    "\n",
    "    # Input the user's choice\n",
    "    choice = input(\"Enter your choice (1/2/3/4): \")\n",
    "\n",
    "    if choice == '1':\n",
    "        print(f\"Your account balance is ${balance:.2f}\")\n",
    "    elif choice == '2':\n",
    "        deposit_amount = float(input(\"Enter the deposit amount: \"))\n",
    "        balance += deposit_amount\n",
    "        print(f\"Deposit successful. Your new balance is ${balance:.2f}\")\n",
    "    elif choice == '3':\n",
    "        withdrawal_amount = float(input(\"Enter the withdrawal amount: \"))\n",
    "        if withdrawal_amount <= balance:\n",
    "            balance -= withdrawal_amount\n",
    "            print(f\"Withdrawal successful. Your new balance is ${balance:.2f}\")\n",
    "        else:\n",
    "            print(\"Insufficient funds. Withdrawal canceled.\")\n",
    "    elif choice == '4':\n",
    "        print(\"Thank you for using the ATM. Have a nice day!\")\n",
    "        break\n",
    "    else:\n",
    "        print(\"Invalid choice. Please select a valid option (1/2/3/4).\")"
   ]
  },
  {
   "cell_type": "markdown",
   "id": "ad6fdc28-c020-4f18-8de8-2c26adb2707b",
   "metadata": {},
   "source": [
    "16. Build a program that checks if a given string is a palindrome or not."
   ]
  },
  {
   "cell_type": "code",
   "execution_count": 51,
   "id": "6e24b31a-5794-4122-a868-2235e1164a80",
   "metadata": {},
   "outputs": [
    {
     "name": "stdin",
     "output_type": "stream",
     "text": [
      "Enter a string:  madam\n"
     ]
    },
    {
     "name": "stdout",
     "output_type": "stream",
     "text": [
      "'madam' is a palindrome.\n"
     ]
    }
   ],
   "source": [
    "input_string = input(\"Enter a string: \")\n",
    "\n",
    "# Remove spaces and convert the input string to lowercase\n",
    "input_string = input_string.replace(\" \", \"\").lower()\n",
    "\n",
    "# Check if the string is a palindrome\n",
    "if input_string == input_string[::-1]:\n",
    "    print(f\"'{input_string}' is a palindrome.\")\n",
    "else:\n",
    "    print(f\"'{input_string}' is not a palindrome.\")"
   ]
  },
  {
   "cell_type": "markdown",
   "id": "2a62414a-2be9-4de5-a574-834765189c31",
   "metadata": {},
   "source": [
    "17. Write a program that calculates the average of a list of numbers, excluding the smallest and largest values."
   ]
  },
  {
   "cell_type": "code",
   "execution_count": 54,
   "id": "1a01f3da-4772-4e18-ab0b-0f7a354b36f4",
   "metadata": {},
   "outputs": [
    {
     "name": "stdin",
     "output_type": "stream",
     "text": [
      "Enter a list of numbers separated by spaces:  1 2 3\n"
     ]
    },
    {
     "name": "stdout",
     "output_type": "stream",
     "text": [
      "The average (excluding the smallest and largest values) is: 2.00\n"
     ]
    }
   ],
   "source": [
    "numbers = input(\"Enter a list of numbers separated by spaces: \").split()\n",
    "\n",
    "# Convert the input values to float and store them in a list\n",
    "number_list = [float(num) for num in numbers]\n",
    "\n",
    "# Check if the list has at least 3 elements\n",
    "if len(number_list) < 3:\n",
    "    print(\"Please enter at least three numbers to calculate the average.\")\n",
    "else:\n",
    "    # Remove the smallest and largest values\n",
    "    number_list.remove(min(number_list))\n",
    "    number_list.remove(max(number_list))\n",
    "\n",
    "    # Calculate the average of the remaining values\n",
    "    average = sum(number_list) / len(number_list)\n",
    "\n",
    "    # Print the calculated average\n",
    "    print(f\"The average (excluding the smallest and largest values) is: {average:.2f}\")"
   ]
  },
  {
   "cell_type": "markdown",
   "id": "e80ffcde-441d-43cf-ae8b-8cbe871e9616",
   "metadata": {},
   "source": [
    "18. Develop a program that converts a given temperature from Celsius to Fahrenheit."
   ]
  },
  {
   "cell_type": "code",
   "execution_count": 55,
   "id": "75b67b90-dd1f-41ca-901b-c16f7645501b",
   "metadata": {},
   "outputs": [
    {
     "name": "stdin",
     "output_type": "stream",
     "text": [
      "Enter the temperature in Celsius:  3\n"
     ]
    },
    {
     "name": "stdout",
     "output_type": "stream",
     "text": [
      "3.0 degrees Celsius is equal to 37.4 degrees Fahrenheit.\n"
     ]
    }
   ],
   "source": [
    "celsius = float(input(\"Enter the temperature in Celsius: \"))\n",
    "\n",
    "# Convert Celsius to Fahrenheit using the formula\n",
    "fahrenheit = (celsius * 9/5) + 32\n",
    "\n",
    "# Print the converted temperature in Fahrenheit\n",
    "print(f\"{celsius} degrees Celsius is equal to {fahrenheit} degrees Fahrenheit.\")"
   ]
  },
  {
   "cell_type": "markdown",
   "id": "ea39e09f-dfd5-445d-9481-68832f608806",
   "metadata": {},
   "source": [
    "19. Create a program that simulates a basic calculator for addition, subtraction, multiplication, and division."
   ]
  },
  {
   "cell_type": "code",
   "execution_count": 56,
   "id": "d16bccac-abba-44ff-bd4a-3b18295a818c",
   "metadata": {},
   "outputs": [
    {
     "name": "stdout",
     "output_type": "stream",
     "text": [
      "Calculator Menu:\n",
      "1. Addition\n",
      "2. Subtraction\n",
      "3. Multiplication\n",
      "4. Division\n"
     ]
    },
    {
     "name": "stdin",
     "output_type": "stream",
     "text": [
      "Enter your choice (1/2/3/4):  1\n",
      "Enter the first number:  2\n",
      "Enter the second number:  3\n"
     ]
    },
    {
     "name": "stdout",
     "output_type": "stream",
     "text": [
      "Result of addition: 5.0\n"
     ]
    }
   ],
   "source": [
    "# Function for addition\n",
    "def add(x, y):\n",
    "    return x + y\n",
    "\n",
    "# Function for subtraction\n",
    "def subtract(x, y):\n",
    "    return x - y\n",
    "\n",
    "# Function for multiplication\n",
    "def multiply(x, y):\n",
    "    return x * y\n",
    "\n",
    "# Function for division\n",
    "def divide(x, y):\n",
    "    if y == 0:\n",
    "        return \"Cannot divide by zero\"\n",
    "    return x / y\n",
    "\n",
    "# Display the calculator menu\n",
    "print(\"Calculator Menu:\")\n",
    "print(\"1. Addition\")\n",
    "print(\"2. Subtraction\")\n",
    "print(\"3. Multiplication\")\n",
    "print(\"4. Division\")\n",
    "\n",
    "# Input the user's choice\n",
    "choice = input(\"Enter your choice (1/2/3/4): \")\n",
    "\n",
    "# Input two numbers from the user\n",
    "num1 = float(input(\"Enter the first number: \"))\n",
    "num2 = float(input(\"Enter the second number: \"))\n",
    "\n",
    "# Perform the selected operation based on the user's choice\n",
    "if choice == '1':\n",
    "    result = add(num1, num2)\n",
    "    operation = \"addition\"\n",
    "elif choice == '2':\n",
    "    result = subtract(num1, num2)\n",
    "    operation = \"subtraction\"\n",
    "elif choice == '3':\n",
    "    result = multiply(num1, num2)\n",
    "    operation = \"multiplication\"\n",
    "elif choice == '4':\n",
    "    result = divide(num1, num2)\n",
    "    operation = \"division\"\n",
    "else:\n",
    "    result = \"Invalid choice\"\n",
    "    operation = \"\"\n",
    "\n",
    "# Display the result\n",
    "if operation:\n",
    "    print(f\"Result of {operation}: {result}\")\n",
    "else:\n",
    "    print(\"Invalid choice. Please select a valid option (1/2/3/4).\")"
   ]
  },
  {
   "cell_type": "markdown",
   "id": "ec18ce87-ba68-4036-82bb-1563c41d7103",
   "metadata": {},
   "source": [
    "20. Write a program that determines the roots of a cubic equation using the Cardano formula."
   ]
  },
  {
   "cell_type": "code",
   "execution_count": 58,
   "id": "6e56c042-c51a-47c3-b6e8-a7d6890d7799",
   "metadata": {},
   "outputs": [
    {
     "name": "stdin",
     "output_type": "stream",
     "text": [
      "Enter the coefficient a:  2\n",
      "Enter the coefficient b:  3\n",
      "Enter the coefficient c:  4\n",
      "Enter the coefficient d:  5\n"
     ]
    },
    {
     "name": "stdout",
     "output_type": "stream",
     "text": [
      "The roots of the cubic equation are:\n",
      "Root 1: (0.45027771716561205+1.0515927364911j)\n",
      "Root 2: (-0.06443283434631841-0.7544244610209463j)\n",
      "Root 3: (-1.8858448828192937-0.2971682754701537j)\n"
     ]
    }
   ],
   "source": [
    "import math\n",
    "\n",
    "# Input coefficients a, b, c, and d\n",
    "a = float(input(\"Enter the coefficient a: \"))\n",
    "b = float(input(\"Enter the coefficient b: \"))\n",
    "c = float(input(\"Enter the coefficient c: \"))\n",
    "d = float(input(\"Enter the coefficient d: \"))\n",
    "\n",
    "# Calculate some intermediate values\n",
    "p = c / a - (b ** 2) / (3 * (a ** 2))\n",
    "q = (2 * (b ** 3)) / (27 * (a ** 3)) - (b * c) / (3 * (a ** 2)) + d / a\n",
    "\n",
    "# Calculate the discriminant\n",
    "discriminant = (q ** 2) / 4 + (p ** 3) / 27\n",
    "\n",
    "# Check the discriminant to determine the number of real roots\n",
    "if discriminant > 0:\n",
    "    # One real root and two complex roots\n",
    "    r = (-q / 2 + math.sqrt(discriminant)) ** (1 / 3)\n",
    "    s = (-q / 2 - math.sqrt(discriminant)) ** (1 / 3)\n",
    "    real_root = r + s - (b / (3 * a))\n",
    "    complex_root1 = complex(-(r + s) / 2 - (b / (3 * a)), (r - s) * math.sqrt(3) / 2)\n",
    "    complex_root2 = complex(-(r + s) / 2 - (b / (3 * a)), -(r - s) * math.sqrt(3) / 2)\n",
    "    roots = [real_root, complex_root1, complex_root2]\n",
    "elif discriminant == 0:\n",
    "    # Three real roots, with one repeated root\n",
    "    r = (-q / 2) ** (1 / 3)\n",
    "    real_root1 = 2 * r - (b / (3 * a))\n",
    "    real_root2 = -r - (b / (3 * a))\n",
    "    real_root3 = -r - (b / (3 * a))\n",
    "    roots = [real_root1, real_root2, real_root3]\n",
    "else:\n",
    "    # Three distinct real roots\n",
    "    theta = math.acos(-q / 2 * math.sqrt(-27 / (p ** 3))) / 3\n",
    "    r1 = 2 * math.sqrt(-p / 3) * math.cos(theta)\n",
    "    r2 = 2 * math.sqrt(-p / 3) * math.cos(theta + 2 * math.pi / 3)\n",
    "    r3 = 2 * math.sqrt(-p / 3) * math.cos(theta + 4 * math.pi / 3)\n",
    "    real_root1 = r1 - (b / (3 * a))\n",
    "    real_root2 = r2 - (b / (3 * a))\n",
    "    real_root3 = r3 - (b / (3 * a))\n",
    "    roots = [real_root1, real_root2, real_root3]\n",
    "\n",
    "# Display the roots\n",
    "print(\"The roots of the cubic equation are:\")\n",
    "for i, root in enumerate(roots):\n",
    "    print(f\"Root {i + 1}: {root}\")"
   ]
  },
  {
   "cell_type": "markdown",
   "id": "79a07279-3a2e-411f-865f-222142fd234d",
   "metadata": {},
   "source": [
    "Advanced Level:"
   ]
  },
  {
   "cell_type": "markdown",
   "id": "e31e2c5a-1721-4e82-a594-5533aa21fa48",
   "metadata": {},
   "source": [
    "21. Create a program that calculates the income tax based on the user's income and tax brackets."
   ]
  },
  {
   "cell_type": "code",
   "execution_count": 1,
   "id": "f0a31d7b-1ce3-48c5-b793-d31d8c48ef64",
   "metadata": {},
   "outputs": [
    {
     "name": "stdin",
     "output_type": "stream",
     "text": [
      "Enter your annual income: $ 1200000\n"
     ]
    },
    {
     "name": "stdout",
     "output_type": "stream",
     "text": [
      "Your income tax is: $156233.75\n"
     ]
    }
   ],
   "source": [
    "tax_brackets = [(0, 9875), (9876, 40125), (40126, 85525), (85526, 163300), (163301, 207350), (207351, 518400)]\n",
    "tax_rates = [0.10, 0.12, 0.22, 0.24, 0.32, 0.35, 0.37]\n",
    "\n",
    "# Input the user's income\n",
    "income = float(input(\"Enter your annual income: $\"))\n",
    "\n",
    "# Calculate the income tax\n",
    "tax_due = 0\n",
    "remaining_income = income\n",
    "\n",
    "for i in range(len(tax_brackets)):\n",
    "    bracket_min, bracket_max = tax_brackets[i]\n",
    "    rate = tax_rates[i]\n",
    "    if remaining_income <= 0:\n",
    "        break\n",
    "    if remaining_income <= (bracket_max - bracket_min):\n",
    "        tax_due += remaining_income * rate\n",
    "        remaining_income = 0\n",
    "    else:\n",
    "        tax_due += (bracket_max - bracket_min) * rate\n",
    "        remaining_income -= (bracket_max - bracket_min)\n",
    "\n",
    "# Print the calculated income tax\n",
    "print(f\"Your income tax is: ${tax_due:.2f}\")"
   ]
  },
  {
   "cell_type": "markdown",
   "id": "9a1a3ac2-80fa-480c-a70a-b70e64fccef2",
   "metadata": {},
   "source": [
    "22. Write a program that simulates a rock-paper-scissors game against the computer."
   ]
  },
  {
   "cell_type": "code",
   "execution_count": 3,
   "id": "4cbd9a4d-d6fc-47e0-bbab-aa4991395aa6",
   "metadata": {},
   "outputs": [
    {
     "name": "stdin",
     "output_type": "stream",
     "text": [
      "Choose rock, paper, or scissors (or 'q' to quit):  rock\n"
     ]
    },
    {
     "name": "stdout",
     "output_type": "stream",
     "text": [
      "You chose rock. Computer chose scissors.\n",
      "You win!\n"
     ]
    },
    {
     "name": "stdin",
     "output_type": "stream",
     "text": [
      "Choose rock, paper, or scissors (or 'q' to quit):  q\n"
     ]
    }
   ],
   "source": [
    "import random\n",
    "\n",
    "# Function to get the computer's choice\n",
    "def get_computer_choice():\n",
    "    choices = [\"rock\", \"paper\", \"scissors\"]\n",
    "    return random.choice(choices)\n",
    "\n",
    "# Function to determine the winner\n",
    "def determine_winner(user_choice, computer_choice):\n",
    "    if user_choice == computer_choice:\n",
    "        return \"It's a tie!\"\n",
    "    elif (\n",
    "        (user_choice == \"rock\" and computer_choice == \"scissors\")\n",
    "        or (user_choice == \"paper\" and computer_choice == \"rock\")\n",
    "        or (user_choice == \"scissors\" and computer_choice == \"paper\")\n",
    "    ):\n",
    "        return \"You win!\"\n",
    "    else:\n",
    "        return \"Computer wins!\"\n",
    "\n",
    "# Main game loop\n",
    "while True:\n",
    "    # Get user's choice\n",
    "    user_choice = input(\"Choose rock, paper, or scissors (or 'q' to quit): \").lower()\n",
    "\n",
    "    # Check if the user wants to quit\n",
    "    if user_choice == 'q':\n",
    "        break\n",
    "\n",
    "    # Check if the user's choice is valid\n",
    "    if user_choice not in [\"rock\", \"paper\", \"scissors\"]:\n",
    "        print(\"Invalid choice. Please choose rock, paper, or scissors.\")\n",
    "        continue\n",
    "\n",
    "    # Get computer's choice\n",
    "    computer_choice = get_computer_choice()\n",
    "\n",
    "    # Determine the winner\n",
    "    result = determine_winner(user_choice, computer_choice)\n",
    "\n",
    "    # Display the choices and result\n",
    "    print(f\"You chose {user_choice}. Computer chose {computer_choice}.\")\n",
    "    print(result)"
   ]
  },
  {
   "cell_type": "markdown",
   "id": "af3e352c-07bb-4758-bfa2-bd14503159d9",
   "metadata": {},
   "source": [
    "23. Develop a program that generates a random password based on user preferences (length, complexity)."
   ]
  },
  {
   "cell_type": "code",
   "execution_count": 6,
   "id": "2421a825-793d-4ed4-b0fc-234ffcadf4a6",
   "metadata": {},
   "outputs": [
    {
     "name": "stdout",
     "output_type": "stream",
     "text": [
      "Password Generator\n"
     ]
    },
    {
     "name": "stdin",
     "output_type": "stream",
     "text": [
      "Enter the desired password length:  4\n",
      "Include lowercase letters? (yes/no):  y\n",
      "Include uppercase letters? (yes/no):  y\n",
      "Include digits? (yes/no):  n\n",
      "Include special characters? (yes/no):  n\n"
     ]
    },
    {
     "name": "stdout",
     "output_type": "stream",
     "text": [
      "Generated Password: Please select at least one character set for complexity.\n"
     ]
    }
   ],
   "source": [
    "import random\n",
    "import string\n",
    "\n",
    "# Function to generate a random password\n",
    "def generate_password(length, use_lowercase, use_uppercase, use_digits, use_special_chars):\n",
    "    # Define character sets based on complexity preferences\n",
    "    characters = \"\"\n",
    "    if use_lowercase:\n",
    "        characters += string.ascii_lowercase\n",
    "    if use_uppercase:\n",
    "        characters += string.ascii_uppercase\n",
    "    if use_digits:\n",
    "        characters += string.digits\n",
    "    if use_special_chars:\n",
    "        characters += string.punctuation\n",
    "\n",
    "    # Check if at least one character set is selected\n",
    "    if not characters:\n",
    "        return \"Please select at least one character set for complexity.\"\n",
    "\n",
    "    # Generate the password by randomly choosing characters from the selected sets\n",
    "    password = ''.join(random.choice(characters) for _ in range(length))\n",
    "    return password\n",
    "\n",
    "# Get user preferences for password generation\n",
    "print(\"Password Generator\")\n",
    "length = int(input(\"Enter the desired password length: \"))\n",
    "use_lowercase = input(\"Include lowercase letters? (yes/no): \").lower() == \"yes\"\n",
    "use_uppercase = input(\"Include uppercase letters? (yes/no): \").lower() == \"yes\"\n",
    "use_digits = input(\"Include digits? (yes/no): \").lower() == \"yes\"\n",
    "use_special_chars = input(\"Include special characters? (yes/no): \").lower() == \"yes\"\n",
    "\n",
    "# Generate and print the password\n",
    "password = generate_password(length, use_lowercase, use_uppercase, use_digits, use_special_chars)\n",
    "print(\"Generated Password:\", password)"
   ]
  },
  {
   "cell_type": "markdown",
   "id": "8ff9e7c8-4884-4cde-b397-cb209c7be156",
   "metadata": {},
   "source": [
    "24. Create a program that implements a simple text-based adventure game with branching scenarios."
   ]
  },
  {
   "cell_type": "code",
   "execution_count": 7,
   "id": "299e7f54-0f83-4a6d-b0c3-225e3616e6da",
   "metadata": {},
   "outputs": [
    {
     "name": "stdout",
     "output_type": "stream",
     "text": [
      "Welcome to the Text Adventure Game!\n",
      "You find yourself in a dark forest. Your goal is to find the hidden treasure.\n",
      "You have reached a fork in the path. Which way will you go? (left/right)\n"
     ]
    },
    {
     "name": "stdin",
     "output_type": "stream",
     "text": [
      "Enter 'left' or 'right':  left\n"
     ]
    },
    {
     "name": "stdout",
     "output_type": "stream",
     "text": [
      "You chose to go left.\n",
      "You continue walking and discover an old hut.\n",
      "Do you want to enter the hut or keep going? (enter/keep going)\n"
     ]
    },
    {
     "name": "stdin",
     "output_type": "stream",
     "text": [
      "Enter 'enter' or 'keep going':  \n"
     ]
    },
    {
     "name": "stdout",
     "output_type": "stream",
     "text": [
      "Invalid choice. Please enter 'enter' or 'keep going'.\n"
     ]
    },
    {
     "name": "stdin",
     "output_type": "stream",
     "text": [
      "Enter 'enter' or 'keep going':  \n"
     ]
    },
    {
     "name": "stdout",
     "output_type": "stream",
     "text": [
      "Invalid choice. Please enter 'enter' or 'keep going'.\n"
     ]
    },
    {
     "name": "stdin",
     "output_type": "stream",
     "text": [
      "Enter 'enter' or 'keep going':  enter\n"
     ]
    },
    {
     "name": "stdout",
     "output_type": "stream",
     "text": [
      "You cautiously enter the hut.\n",
      "Inside the hut, you find a magic potion that restores your health.\n",
      "You come across a river. It's too wide to jump across.\n",
      "You see a bridge up ahead, but it looks unstable.\n",
      "What will you do? (swim/wait for help)\n"
     ]
    },
    {
     "name": "stdin",
     "output_type": "stream",
     "text": [
      "Enter 'swim' or 'wait for help':  help\n"
     ]
    },
    {
     "name": "stdout",
     "output_type": "stream",
     "text": [
      "Invalid choice. Please enter 'swim' or 'wait for help'.\n"
     ]
    },
    {
     "name": "stdin",
     "output_type": "stream",
     "text": [
      "Enter 'swim' or 'wait for help':  swim\n"
     ]
    },
    {
     "name": "stdout",
     "output_type": "stream",
     "text": [
      "You decide to swim across the river.\n",
      "You successfully make it to the other side.\n",
      "You continue your journey through the forest.\n",
      "After overcoming various challenges, you finally reach the hidden treasure!\n",
      "Congratulations! You've won the game.\n",
      "Thank you for playing the Text Adventure Game.\n"
     ]
    }
   ],
   "source": [
    "import time\n",
    "\n",
    "# Function for displaying text with a delay effect\n",
    "def display_text(text, delay=0.03):\n",
    "    for char in text:\n",
    "        print(char, end='', flush=True)\n",
    "        time.sleep(delay)\n",
    "    print()\n",
    "\n",
    "# Introduction\n",
    "display_text(\"Welcome to the Text Adventure Game!\")\n",
    "display_text(\"You find yourself in a dark forest. Your goal is to find the hidden treasure.\")\n",
    "display_text(\"You have reached a fork in the path. Which way will you go? (left/right)\")\n",
    "\n",
    "# Get user input for the first decision\n",
    "while True:\n",
    "    choice1 = input(\"Enter 'left' or 'right': \").lower()\n",
    "    if choice1 == 'left':\n",
    "        display_text(\"You chose to go left.\")\n",
    "        break\n",
    "    elif choice1 == 'right':\n",
    "        display_text(\"You chose to go right.\")\n",
    "        break\n",
    "    else:\n",
    "        display_text(\"Invalid choice. Please enter 'left' or 'right'.\")\n",
    "\n",
    "# First scenario\n",
    "display_text(\"You continue walking and discover an old hut.\")\n",
    "display_text(\"Do you want to enter the hut or keep going? (enter/keep going)\")\n",
    "\n",
    "# Get user input for the second decision\n",
    "while True:\n",
    "    choice2 = input(\"Enter 'enter' or 'keep going': \").lower()\n",
    "    if choice2 == 'enter':\n",
    "        display_text(\"You cautiously enter the hut.\")\n",
    "        display_text(\"Inside the hut, you find a magic potion that restores your health.\")\n",
    "        break\n",
    "    elif choice2 == 'keep going':\n",
    "        display_text(\"You decide to keep going on your adventure.\")\n",
    "        break\n",
    "    else:\n",
    "        display_text(\"Invalid choice. Please enter 'enter' or 'keep going'.\")\n",
    "\n",
    "# Second scenario\n",
    "display_text(\"You come across a river. It's too wide to jump across.\")\n",
    "display_text(\"You see a bridge up ahead, but it looks unstable.\")\n",
    "display_text(\"What will you do? (swim/wait for help)\")\n",
    "\n",
    "# Get user input for the third decision\n",
    "while True:\n",
    "    choice3 = input(\"Enter 'swim' or 'wait for help': \").lower()\n",
    "    if choice3 == 'swim':\n",
    "        display_text(\"You decide to swim across the river.\")\n",
    "        display_text(\"You successfully make it to the other side.\")\n",
    "        break\n",
    "    elif choice3 == 'wait for help':\n",
    "        display_text(\"You wait for help and a friendly passerby helps you cross the bridge.\")\n",
    "        break\n",
    "    else:\n",
    "        display_text(\"Invalid choice. Please enter 'swim' or 'wait for help'.\")\n",
    "\n",
    "# Conclusion\n",
    "display_text(\"You continue your journey through the forest.\")\n",
    "display_text(\"After overcoming various challenges, you finally reach the hidden treasure!\")\n",
    "display_text(\"Congratulations! You've won the game.\")\n",
    "\n",
    "# End of the game\n",
    "display_text(\"Thank you for playing the Text Adventure Game.\")"
   ]
  },
  {
   "cell_type": "markdown",
   "id": "7f2bd448-899d-4e54-b9fb-719f3ca4c2cf",
   "metadata": {},
   "source": [
    "25. Build a program that solves a linear equation for x, considering different cases."
   ]
  },
  {
   "cell_type": "code",
   "execution_count": 9,
   "id": "1b9434ab-76c2-43e9-abda-5f2bd2dd62ba",
   "metadata": {},
   "outputs": [
    {
     "name": "stdin",
     "output_type": "stream",
     "text": [
      "Enter the coefficient 'a' (not equal to 0):  0\n",
      "Enter the coefficient 'b':  1\n"
     ]
    },
    {
     "name": "stdout",
     "output_type": "stream",
     "text": [
      "No solution. The equation is invalid.\n"
     ]
    }
   ],
   "source": [
    "# Input coefficients a and b\n",
    "a = float(input(\"Enter the coefficient 'a' (not equal to 0): \"))\n",
    "b = float(input(\"Enter the coefficient 'b': \"))\n",
    "\n",
    "# Check if 'a' is zero\n",
    "if a == 0:\n",
    "    if b == 0:\n",
    "        print(\"Infinite solutions. Any value of x is a solution.\")\n",
    "    else:\n",
    "        print(\"No solution. The equation is invalid.\")\n",
    "else:\n",
    "    # Solve for x\n",
    "    x = -b / a\n",
    "    print(f\"The solution for x is: x = {x}\")"
   ]
  },
  {
   "cell_type": "markdown",
   "id": "b702ae49-3796-4bc1-bf15-c1ced6b13c88",
   "metadata": {},
   "source": [
    "26. Write a program that simulates a basic quiz game with multiple-choice questions and scoring."
   ]
  },
  {
   "cell_type": "code",
   "execution_count": 10,
   "id": "5f86cab7-755b-4506-a03e-2d323a1252eb",
   "metadata": {},
   "outputs": [
    {
     "name": "stdout",
     "output_type": "stream",
     "text": [
      "Welcome to the Quiz Game!\n",
      "\n",
      "Which planet is known as the 'Red Planet'?\n",
      "1. Venus\n",
      "2. Mars\n",
      "3. Jupiter\n",
      "4. Saturn\n"
     ]
    },
    {
     "name": "stdin",
     "output_type": "stream",
     "text": [
      "Enter the number of your answer:  1\n"
     ]
    },
    {
     "name": "stdout",
     "output_type": "stream",
     "text": [
      "Sorry, the correct answer is Mars.\n",
      "\n",
      "What is the largest mammal on Earth?\n",
      "1. Elephant\n",
      "2. Whale Shark\n",
      "3. Giraffe\n",
      "4. Blue Whale\n"
     ]
    },
    {
     "name": "stdin",
     "output_type": "stream",
     "text": [
      "Enter the number of your answer:  4\n"
     ]
    },
    {
     "name": "stdout",
     "output_type": "stream",
     "text": [
      "Correct!\n",
      "\n",
      "What is the capital of France?\n",
      "1. London\n",
      "2. Madrid\n",
      "3. Paris\n",
      "4. Berlin\n"
     ]
    },
    {
     "name": "stdin",
     "output_type": "stream",
     "text": [
      "Enter the number of your answer:  1\n"
     ]
    },
    {
     "name": "stdout",
     "output_type": "stream",
     "text": [
      "Sorry, the correct answer is Paris.\n",
      "\n",
      "Quiz completed! Your score is: 1/3\n"
     ]
    }
   ],
   "source": [
    "import random\n",
    "\n",
    "# Define a list of quiz questions, each question as a dictionary\n",
    "questions = [\n",
    "    {\n",
    "        \"question\": \"What is the capital of France?\",\n",
    "        \"options\": [\"London\", \"Madrid\", \"Paris\", \"Berlin\"],\n",
    "        \"correct_answer\": \"Paris\",\n",
    "    },\n",
    "    {\n",
    "        \"question\": \"Which planet is known as the 'Red Planet'?\",\n",
    "        \"options\": [\"Venus\", \"Mars\", \"Jupiter\", \"Saturn\"],\n",
    "        \"correct_answer\": \"Mars\",\n",
    "    },\n",
    "    {\n",
    "        \"question\": \"What is the largest mammal on Earth?\",\n",
    "        \"options\": [\"Elephant\", \"Whale Shark\", \"Giraffe\", \"Blue Whale\"],\n",
    "        \"correct_answer\": \"Blue Whale\",\n",
    "    },\n",
    "]\n",
    "\n",
    "# Shuffle the questions to make the quiz more interesting\n",
    "random.shuffle(questions)\n",
    "\n",
    "# Initialize the score\n",
    "score = 0\n",
    "\n",
    "# Function to display a question and its options, and check the answer\n",
    "def ask_question(question_dict):\n",
    "    print(question_dict[\"question\"])\n",
    "    for i, option in enumerate(question_dict[\"options\"], start=1):\n",
    "        print(f\"{i}. {option}\")\n",
    "    user_answer = input(\"Enter the number of your answer: \")\n",
    "    if user_answer.isdigit() and 1 <= int(user_answer) <= len(question_dict[\"options\"]):\n",
    "        user_choice = question_dict[\"options\"][int(user_answer) - 1]\n",
    "        if user_choice == question_dict[\"correct_answer\"]:\n",
    "            print(\"Correct!\\n\")\n",
    "            return 1\n",
    "        else:\n",
    "            print(f\"Sorry, the correct answer is {question_dict['correct_answer']}.\\n\")\n",
    "    else:\n",
    "        print(\"Invalid input. Please enter the number corresponding to your answer.\\n\")\n",
    "    return 0\n",
    "\n",
    "# Quiz loop\n",
    "print(\"Welcome to the Quiz Game!\\n\")\n",
    "for question in questions:\n",
    "    score += ask_question(question)\n",
    "\n",
    "# Display the final score\n",
    "print(f\"Quiz completed! Your score is: {score}/{len(questions)}\")"
   ]
  },
  {
   "cell_type": "markdown",
   "id": "dfdb21dc-4a9f-4e2b-b7e0-15bfd7931bd8",
   "metadata": {},
   "source": [
    "27. Develop a program that determines whether a given year is a prime number or not."
   ]
  },
  {
   "cell_type": "code",
   "execution_count": 12,
   "id": "0559fcff-d9dc-485c-9f6f-9b42f534ab00",
   "metadata": {},
   "outputs": [
    {
     "name": "stdin",
     "output_type": "stream",
     "text": [
      "Enter a year to check if it's prime:  2023\n"
     ]
    },
    {
     "name": "stdout",
     "output_type": "stream",
     "text": [
      "2023 is not a prime year.\n"
     ]
    }
   ],
   "source": [
    "# Function to check if a number is prime\n",
    "def is_prime(year):\n",
    "    if year <= 1:\n",
    "        return False\n",
    "    elif year <= 3:\n",
    "        return True\n",
    "    elif year % 2 == 0 or year % 3 == 0:\n",
    "        return False\n",
    "    i = 5\n",
    "    while i * i <= year:\n",
    "        if year % i == 0 or year % (i + 2) == 0:\n",
    "            return False\n",
    "        i += 6\n",
    "    return True\n",
    "\n",
    "# Input the year from the user\n",
    "year = int(input(\"Enter a year to check if it's prime: \"))\n",
    "\n",
    "# Check if the year is prime and display the result\n",
    "if is_prime(year):\n",
    "    print(f\"{year} is a prime year.\")\n",
    "else:\n",
    "    print(f\"{year} is not a prime year.\")"
   ]
  },
  {
   "cell_type": "markdown",
   "id": "7a6908fc-1367-4f05-a949-339ab1b61be5",
   "metadata": {},
   "source": [
    "28. Create a program that sorts three numbers in ascending order using conditional statements."
   ]
  },
  {
   "cell_type": "code",
   "execution_count": 13,
   "id": "e777b18c-d40d-47ce-81ce-acbc27fe7c5c",
   "metadata": {},
   "outputs": [
    {
     "name": "stdin",
     "output_type": "stream",
     "text": [
      "Enter the first number:  20\n",
      "Enter the second number:  30\n",
      "Enter the third number:  45\n"
     ]
    },
    {
     "name": "stdout",
     "output_type": "stream",
     "text": [
      "Numbers in ascending order: [20.0, 30.0, 45.0]\n"
     ]
    }
   ],
   "source": [
    "# Input three numbers from the user\n",
    "num1 = float(input(\"Enter the first number: \"))\n",
    "num2 = float(input(\"Enter the second number: \"))\n",
    "num3 = float(input(\"Enter the third number: \"))\n",
    "\n",
    "# Use if-else statements to sort the numbers in ascending order\n",
    "if num1 <= num2 <= num3:\n",
    "    sorted_nums = [num1, num2, num3]\n",
    "elif num1 <= num3 <= num2:\n",
    "    sorted_nums = [num1, num3, num2]\n",
    "elif num2 <= num1 <= num3:\n",
    "    sorted_nums = [num2, num1, num3]\n",
    "elif num2 <= num3 <= num1:\n",
    "    sorted_nums = [num2, num3, num1]\n",
    "elif num3 <= num1 <= num2:\n",
    "    sorted_nums = [num3, num1, num2]\n",
    "else:\n",
    "    sorted_nums = [num3, num2, num1]\n",
    "\n",
    "# Display the sorted numbers\n",
    "print(\"Numbers in ascending order:\", sorted_nums)"
   ]
  },
  {
   "cell_type": "markdown",
   "id": "2ded59c1-196f-4a16-8e8b-a7b11bb912ac",
   "metadata": {},
   "source": [
    "30. Write a program that calculates the BMI (Body Mass Index) and provides health recommendations based\n",
    "on the user's input."
   ]
  },
  {
   "cell_type": "code",
   "execution_count": 2,
   "id": "6e11d0c3-1620-4ba8-b21b-471e27f6a2fe",
   "metadata": {},
   "outputs": [
    {
     "name": "stdin",
     "output_type": "stream",
     "text": [
      "Enter your weight in kilograms:  60\n",
      "Enter your height in meters:  5.2\n"
     ]
    },
    {
     "name": "stdout",
     "output_type": "stream",
     "text": [
      "Your BMI is: 2.22\n",
      "You are underweight. It's important to maintain a balanced diet and consider consulting a healthcare professional.\n"
     ]
    }
   ],
   "source": [
    "# Function to calculate BMI and provide health recommendations\n",
    "def calculate_bmi(weight_kg, height_m):\n",
    "    bmi = weight_kg / (height_m ** 2)\n",
    "    return bmi\n",
    "\n",
    "def health_recommendations(bmi):\n",
    "    if bmi < 18.5:\n",
    "        return \"You are underweight. It's important to maintain a balanced diet and consider consulting a healthcare professional.\"\n",
    "    elif 18.5 <= bmi < 24.9:\n",
    "        return \"Your BMI is in the healthy range. Keep up the good work with a balanced diet and regular exercise.\"\n",
    "    elif 25 <= bmi < 29.9:\n",
    "        return \"You are overweight. Consider adopting a healthier lifestyle with improved diet and exercise.\"\n",
    "    else:\n",
    "        return \"You are obese. It's essential to consult a healthcare professional and make significant changes to your lifestyle.\"\n",
    "\n",
    "# Input weight in kilograms and height in meters\n",
    "weight_kg = float(input(\"Enter your weight in kilograms: \"))\n",
    "height_m = float(input(\"Enter your height in meters: \"))\n",
    "\n",
    "# Calculate BMI\n",
    "bmi = calculate_bmi(weight_kg, height_m)\n",
    "\n",
    "# Provide health recommendations based on BMI\n",
    "recommendations = health_recommendations(bmi)\n",
    "\n",
    "# Display BMI and recommendations\n",
    "print(f\"Your BMI is: {bmi:.2f}\")\n",
    "print(recommendations)"
   ]
  },
  {
   "cell_type": "markdown",
   "id": "22a9bbfc-b97b-43be-a186-2005c6f68fdd",
   "metadata": {},
   "source": [
    "Challenge Level:"
   ]
  },
  {
   "cell_type": "markdown",
   "id": "b2bf2937-1f14-4eed-8b30-3f2f085bb805",
   "metadata": {},
   "source": [
    "31. Create a program that validates a password based on complexity rules (length, characters, etc.)."
   ]
  },
  {
   "cell_type": "code",
   "execution_count": 3,
   "id": "5040cce5-187c-497d-9011-df14003092b7",
   "metadata": {},
   "outputs": [
    {
     "name": "stdin",
     "output_type": "stream",
     "text": [
      "Enter a password:  shweta\n"
     ]
    },
    {
     "name": "stdout",
     "output_type": "stream",
     "text": [
      "Password is too short. It must be at least 8 characters long.\n"
     ]
    }
   ],
   "source": [
    "import re\n",
    "\n",
    "# Function to validate a password\n",
    "def validate_password(password):\n",
    "    # Define complexity rules\n",
    "    min_length = 8\n",
    "    has_lowercase = bool(re.search(r'[a-z]', password))\n",
    "    has_uppercase = bool(re.search(r'[A-Z]', password))\n",
    "    has_digit = bool(re.search(r'\\d', password))\n",
    "    has_special_char = bool(re.search(r'[!@#$%^&*()_+{}[\\]:;<>,.?~\\\\-]', password))\n",
    "    \n",
    "    # Check if the password meets the rules\n",
    "    if len(password) < min_length:\n",
    "        return \"Password is too short. It must be at least 8 characters long.\"\n",
    "    elif not has_lowercase:\n",
    "        return \"Password must contain at least one lowercase letter.\"\n",
    "    elif not has_uppercase:\n",
    "        return \"Password must contain at least one uppercase letter.\"\n",
    "    elif not has_digit:\n",
    "        return \"Password must contain at least one digit.\"\n",
    "    elif not has_special_char:\n",
    "        return \"Password must contain at least one special character (e.g., !@#$%^&*()_+{}[\\]:;<>,.?~\\\\-].\"\n",
    "    else:\n",
    "        return \"Password is valid.\"\n",
    "\n",
    "# Input a password\n",
    "password = input(\"Enter a password: \")\n",
    "\n",
    "# Validate the password\n",
    "result = validate_password(password)\n",
    "\n",
    "# Display the validation result\n",
    "print(result)"
   ]
  },
  {
   "cell_type": "markdown",
   "id": "03dfbb22-3a3a-4b67-972a-ec16bae9c76e",
   "metadata": {},
   "source": [
    "32. Develop a program that performs matrix addition and subtraction based on user input."
   ]
  },
  {
   "cell_type": "code",
   "execution_count": 4,
   "id": "c1cd519b-7782-4cc0-bda3-075aadbfeec5",
   "metadata": {},
   "outputs": [
    {
     "name": "stdin",
     "output_type": "stream",
     "text": [
      "Enter the number of rows:  2\n",
      "Enter the number of columns:  2\n"
     ]
    },
    {
     "name": "stdout",
     "output_type": "stream",
     "text": [
      "Input the first matrix:\n",
      "Enter the elements of the 2x2 matrix:\n"
     ]
    },
    {
     "name": "stdin",
     "output_type": "stream",
     "text": [
      "Enter element at position (1,1):  2\n",
      "Enter element at position (1,2):  2\n",
      "Enter element at position (2,1):  2\n",
      "Enter element at position (2,2):  2\n"
     ]
    },
    {
     "name": "stdout",
     "output_type": "stream",
     "text": [
      "Input the second matrix:\n",
      "Enter the elements of the 2x2 matrix:\n"
     ]
    },
    {
     "name": "stdin",
     "output_type": "stream",
     "text": [
      "Enter element at position (1,1):  3\n",
      "Enter element at position (1,2):  3\n",
      "Enter element at position (2,1):  3\n",
      "Enter element at position (2,2):  3\n"
     ]
    },
    {
     "name": "stdout",
     "output_type": "stream",
     "text": [
      "\n",
      "Matrix 1:\n",
      "2.0 2.0\n",
      "2.0 2.0\n",
      "\n",
      "Matrix 2:\n",
      "3.0 3.0\n",
      "3.0 3.0\n",
      "\n",
      "Matrix Sum (Matrix 1 + Matrix 2):\n",
      "5.0 5.0\n",
      "5.0 5.0\n",
      "\n",
      "Matrix Difference (Matrix 1 - Matrix 2):\n",
      "-1.0 -1.0\n",
      "-1.0 -1.0\n"
     ]
    }
   ],
   "source": [
    "# Function to input a matrix\n",
    "def input_matrix(rows, cols):\n",
    "    matrix = []\n",
    "    print(f\"Enter the elements of the {rows}x{cols} matrix:\")\n",
    "    for i in range(rows):\n",
    "        row = []\n",
    "        for j in range(cols):\n",
    "            element = float(input(f\"Enter element at position ({i+1},{j+1}): \"))\n",
    "            row.append(element)\n",
    "        matrix.append(row)\n",
    "    return matrix\n",
    "\n",
    "# Function to print a matrix\n",
    "def print_matrix(matrix):\n",
    "    for row in matrix:\n",
    "        print(\" \".join(map(str, row)))\n",
    "\n",
    "# Function to add two matrices\n",
    "def add_matrices(matrix1, matrix2):\n",
    "    result = []\n",
    "    for i in range(len(matrix1)):\n",
    "        row = []\n",
    "        for j in range(len(matrix1[0])):\n",
    "            row.append(matrix1[i][j] + matrix2[i][j])\n",
    "        result.append(row)\n",
    "    return result\n",
    "\n",
    "# Function to subtract two matrices\n",
    "def subtract_matrices(matrix1, matrix2):\n",
    "    result = []\n",
    "    for i in range(len(matrix1)):\n",
    "        row = []\n",
    "        for j in range(len(matrix1[0])):\n",
    "            row.append(matrix1[i][j] - matrix2[i][j])\n",
    "        result.append(row)\n",
    "    return result\n",
    "\n",
    "# Input matrix dimensions\n",
    "rows = int(input(\"Enter the number of rows: \"))\n",
    "cols = int(input(\"Enter the number of columns: \"))\n",
    "\n",
    "# Input the first matrix\n",
    "print(\"Input the first matrix:\")\n",
    "matrix1 = input_matrix(rows, cols)\n",
    "\n",
    "# Input the second matrix\n",
    "print(\"Input the second matrix:\")\n",
    "matrix2 = input_matrix(rows, cols)\n",
    "\n",
    "# Perform addition and subtraction\n",
    "sum_matrix = add_matrices(matrix1, matrix2)\n",
    "difference_matrix = subtract_matrices(matrix1, matrix2)\n",
    "\n",
    "# Display results\n",
    "print(\"\\nMatrix 1:\")\n",
    "print_matrix(matrix1)\n",
    "\n",
    "print(\"\\nMatrix 2:\")\n",
    "print_matrix(matrix2)\n",
    "\n",
    "print(\"\\nMatrix Sum (Matrix 1 + Matrix 2):\")\n",
    "print_matrix(sum_matrix)\n",
    "\n",
    "print(\"\\nMatrix Difference (Matrix 1 - Matrix 2):\")\n",
    "print_matrix(difference_matrix)"
   ]
  },
  {
   "cell_type": "markdown",
   "id": "d23d1b7c-9af8-4f24-a5fb-18c848714190",
   "metadata": {},
   "source": [
    "33. Write a program that calculates the greatest common divisor (GCD) of two numbers using the Euclidean\n",
    "algorithm."
   ]
  },
  {
   "cell_type": "code",
   "execution_count": 5,
   "id": "d4dd2700-83a0-4ab1-8bf9-c5725ed02b1f",
   "metadata": {},
   "outputs": [
    {
     "name": "stdin",
     "output_type": "stream",
     "text": [
      "Enter the first number:  10\n",
      "Enter the second number:  20\n"
     ]
    },
    {
     "name": "stdout",
     "output_type": "stream",
     "text": [
      "The GCD of 10 and 20 is 10\n"
     ]
    }
   ],
   "source": [
    "# Function to calculate the GCD using the Euclidean algorithm\n",
    "def gcd_euclidean(a, b):\n",
    "    while b:\n",
    "        a, b = b, a % b\n",
    "    return a\n",
    "\n",
    "# Input two numbers\n",
    "num1 = int(input(\"Enter the first number: \"))\n",
    "num2 = int(input(\"Enter the second number: \"))\n",
    "\n",
    "# Calculate the GCD using the Euclidean algorithm\n",
    "gcd = gcd_euclidean(num1, num2)\n",
    "\n",
    "# Display the GCD\n",
    "print(f\"The GCD of {num1} and {num2} is {gcd}\")"
   ]
  },
  {
   "cell_type": "markdown",
   "id": "c7be1a13-e5c8-4ea1-a05a-5e9e387ed32f",
   "metadata": {},
   "source": [
    "34. Build a program that performs matrix multiplication using nested loops and conditional statements."
   ]
  },
  {
   "cell_type": "code",
   "execution_count": 7,
   "id": "a0d9e134-58b1-490f-b0ba-afc0d785ac3f",
   "metadata": {},
   "outputs": [
    {
     "name": "stdin",
     "output_type": "stream",
     "text": [
      "Enter the number of rows for the first matrix:  2\n",
      "Enter the number of columns for the first matrix:  2\n",
      "Enter the number of rows for the second matrix:  2\n",
      "Enter the number of columns for the second matrix:  2\n"
     ]
    },
    {
     "name": "stdout",
     "output_type": "stream",
     "text": [
      "Input the first matrix:\n",
      "Enter the elements of the 2x2 matrix:\n"
     ]
    },
    {
     "name": "stdin",
     "output_type": "stream",
     "text": [
      "Enter element at position (1,1):  3\n",
      "Enter element at position (1,2):  3\n",
      "Enter element at position (2,1):  3\n",
      "Enter element at position (2,2):  3\n"
     ]
    },
    {
     "name": "stdout",
     "output_type": "stream",
     "text": [
      "Input the second matrix:\n",
      "Enter the elements of the 2x2 matrix:\n"
     ]
    },
    {
     "name": "stdin",
     "output_type": "stream",
     "text": [
      "Enter element at position (1,1):  4\n",
      "Enter element at position (1,2):  4\n",
      "Enter element at position (2,1):  4\n",
      "Enter element at position (2,2):  4\n"
     ]
    },
    {
     "name": "stdout",
     "output_type": "stream",
     "text": [
      "\n",
      "Matrix 1:\n",
      "3.0 3.0\n",
      "3.0 3.0\n",
      "\n",
      "Matrix 2:\n",
      "4.0 4.0\n",
      "4.0 4.0\n",
      "\n",
      "Matrix Product (Matrix 1 * Matrix 2):\n",
      "24.0 24.0\n",
      "24.0 24.0\n"
     ]
    }
   ],
   "source": [
    "# Function to input a matrix\n",
    "def input_matrix(rows, cols):\n",
    "    matrix = []\n",
    "    print(f\"Enter the elements of the {rows}x{cols} matrix:\")\n",
    "    for i in range(rows):\n",
    "        row = []\n",
    "        for j in range(cols):\n",
    "            element = float(input(f\"Enter element at position ({i+1},{j+1}): \"))\n",
    "            row.append(element)\n",
    "        matrix.append(row)\n",
    "    return matrix\n",
    "\n",
    "# Function to print a matrix\n",
    "def print_matrix(matrix):\n",
    "    for row in matrix:\n",
    "        print(\" \".join(map(str, row)))\n",
    "\n",
    "# Function to perform matrix multiplication\n",
    "def multiply_matrices(matrix1, matrix2):\n",
    "    if len(matrix1[0]) != len(matrix2):\n",
    "        return \"Matrix multiplication is not possible. Number of columns in the first matrix must be equal to the number of rows in the second matrix.\"\n",
    "    \n",
    "    result = []\n",
    "    for i in range(len(matrix1)):\n",
    "        row = []\n",
    "        for j in range(len(matrix2[0])):\n",
    "            product = 0\n",
    "            for k in range(len(matrix2)):\n",
    "                product += matrix1[i][k] * matrix2[k][j]\n",
    "            row.append(product)\n",
    "        result.append(row)\n",
    "    \n",
    "    return result\n",
    "\n",
    "# Input dimensions for the first matrix\n",
    "rows1 = int(input(\"Enter the number of rows for the first matrix: \"))\n",
    "cols1 = int(input(\"Enter the number of columns for the first matrix: \"))\n",
    "\n",
    "# Input dimensions for the second matrix\n",
    "rows2 = int(input(\"Enter the number of rows for the second matrix: \"))\n",
    "cols2 = int(input(\"Enter the number of columns for the second matrix: \"))\n",
    "\n",
    "# Input the first matrix\n",
    "print(\"Input the first matrix:\")\n",
    "matrix1 = input_matrix(rows1, cols1)\n",
    "\n",
    "# Input the second matrix\n",
    "print(\"Input the second matrix:\")\n",
    "matrix2 = input_matrix(rows2, cols2)\n",
    "\n",
    "# Perform matrix multiplication\n",
    "result = multiply_matrices(matrix1, matrix2)\n",
    "\n",
    "# Display results\n",
    "if isinstance(result, str):\n",
    "    print(result)\n",
    "else:\n",
    "    print(\"\\nMatrix 1:\")\n",
    "    print_matrix(matrix1)\n",
    "\n",
    "    print(\"\\nMatrix 2:\")\n",
    "    print_matrix(matrix2)\n",
    "\n",
    "    print(\"\\nMatrix Product (Matrix 1 * Matrix 2):\")\n",
    "    print_matrix(result)"
   ]
  },
  {
   "cell_type": "markdown",
   "id": "806766da-51e5-4ace-9f2c-61f9b808e022",
   "metadata": {},
   "source": [
    "35. Create a program that simulates a basic text-based tic-tac-toe game against the computer."
   ]
  },
  {
   "cell_type": "code",
   "execution_count": null,
   "id": "ed2b8aae-eed5-4fec-bd09-67505b405a97",
   "metadata": {},
   "outputs": [
    {
     "name": "stdout",
     "output_type": "stream",
     "text": [
      "Welcome to Tic-Tac-Toe!\n",
      "   |   |  \n",
      "-----------\n",
      "   |   |  \n",
      "-----------\n",
      "   |   |  \n"
     ]
    },
    {
     "name": "stdin",
     "output_type": "stream",
     "text": [
      "Enter your move (1-9):  1\n"
     ]
    },
    {
     "name": "stdout",
     "output_type": "stream",
     "text": [
      " X |   |  \n",
      "-----------\n",
      "   |   |  \n",
      "-----------\n",
      "   |   |  \n",
      " X |   |  \n",
      "-----------\n",
      " O |   |  \n",
      "-----------\n",
      "   |   |  \n"
     ]
    },
    {
     "name": "stdin",
     "output_type": "stream",
     "text": [
      "Enter your move (1-9):  2\n"
     ]
    },
    {
     "name": "stdout",
     "output_type": "stream",
     "text": [
      " X | X |  \n",
      "-----------\n",
      " O |   |  \n",
      "-----------\n",
      "   |   |  \n",
      " X | X | O\n",
      "-----------\n",
      " O |   |  \n",
      "-----------\n",
      "   |   |  \n"
     ]
    },
    {
     "name": "stdin",
     "output_type": "stream",
     "text": [
      "Enter your move (1-9):  9\n"
     ]
    },
    {
     "name": "stdout",
     "output_type": "stream",
     "text": [
      " X | X | O\n",
      "-----------\n",
      " O |   |  \n",
      "-----------\n",
      "   |   | X\n",
      " X | X | O\n",
      "-----------\n",
      " O |   |  \n",
      "-----------\n",
      "   | O | X\n"
     ]
    },
    {
     "name": "stdin",
     "output_type": "stream",
     "text": [
      "Enter your move (1-9):  3\n"
     ]
    },
    {
     "name": "stdout",
     "output_type": "stream",
     "text": [
      "Invalid move. Try again.\n"
     ]
    },
    {
     "name": "stdin",
     "output_type": "stream",
     "text": [
      "Enter your move (1-9):  4\n"
     ]
    },
    {
     "name": "stdout",
     "output_type": "stream",
     "text": [
      "Invalid move. Try again.\n"
     ]
    },
    {
     "name": "stdin",
     "output_type": "stream",
     "text": [
      "Enter your move (1-9):  1\n"
     ]
    },
    {
     "name": "stdout",
     "output_type": "stream",
     "text": [
      "Invalid move. Try again.\n"
     ]
    },
    {
     "name": "stdin",
     "output_type": "stream",
     "text": [
      "Enter your move (1-9):  1\n"
     ]
    },
    {
     "name": "stdout",
     "output_type": "stream",
     "text": [
      "Invalid move. Try again.\n"
     ]
    },
    {
     "name": "stdin",
     "output_type": "stream",
     "text": [
      "Enter your move (1-9):  1\n"
     ]
    },
    {
     "name": "stdout",
     "output_type": "stream",
     "text": [
      "Invalid move. Try again.\n"
     ]
    },
    {
     "name": "stdin",
     "output_type": "stream",
     "text": [
      "Enter your move (1-9):  3\n"
     ]
    },
    {
     "name": "stdout",
     "output_type": "stream",
     "text": [
      "Invalid move. Try again.\n"
     ]
    },
    {
     "name": "stdin",
     "output_type": "stream",
     "text": [
      "Enter your move (1-9):  4\n"
     ]
    },
    {
     "name": "stdout",
     "output_type": "stream",
     "text": [
      "Invalid move. Try again.\n"
     ]
    },
    {
     "name": "stdin",
     "output_type": "stream",
     "text": [
      "Enter your move (1-9):  \n"
     ]
    },
    {
     "name": "stdout",
     "output_type": "stream",
     "text": [
      "Invalid input. Enter a number (1-9).\n"
     ]
    },
    {
     "name": "stdin",
     "output_type": "stream",
     "text": [
      "Enter your move (1-9):  5\n"
     ]
    },
    {
     "name": "stdout",
     "output_type": "stream",
     "text": [
      " X | X | O\n",
      "-----------\n",
      " O | X |  \n",
      "-----------\n",
      "   | O | X\n",
      "Computer wins!\n"
     ]
    }
   ],
   "source": [
    "import random\n",
    "\n",
    "# Initialize the Tic-Tac-Toe board\n",
    "board = [\" \" for _ in range(9)]\n",
    "\n",
    "# Function to display the Tic-Tac-Toe board\n",
    "def display_board(board):\n",
    "    print(\" \" + board[0] + \" | \" + board[1] + \" | \" + board[2])\n",
    "    print(\"-----------\")\n",
    "    print(\" \" + board[3] + \" | \" + board[4] + \" | \" + board[5])\n",
    "    print(\"-----------\")\n",
    "    print(\" \" + board[6] + \" | \" + board[7] + \" | \" + board[8])\n",
    "\n",
    "# Function to check if the game is over\n",
    "def is_game_over(board):\n",
    "    # Check rows, columns, and diagonals for a win\n",
    "    for i in range(3):\n",
    "        if (\n",
    "            board[i * 3] == board[i * 3 + 1] == board[i * 3 + 2] != \" \"\n",
    "            or board[i] == board[i + 3] == board[i + 6] != \" \"\n",
    "        ):\n",
    "            return True\n",
    "    if (\n",
    "        board[0] == board[4] == board[8] != \" \"\n",
    "        or board[2] == board[4] == board[6] != \" \"\n",
    "    ):\n",
    "        return True\n",
    "    # Check for a tie\n",
    "    if \" \" not in board:\n",
    "        return True\n",
    "    return False\n",
    "\n",
    "# Function for the computer's move\n",
    "def computer_move(board):\n",
    "    while True:\n",
    "        move = random.randint(0, 8)\n",
    "        if board[move] == \" \":\n",
    "            return move\n",
    "\n",
    "# Function to play the Tic-Tac-Toe game\n",
    "def play_game():\n",
    "    player_symbol = \"X\"\n",
    "    computer_symbol = \"O\"\n",
    "    current_player = player_symbol\n",
    "\n",
    "    while not is_game_over(board):\n",
    "        display_board(board)\n",
    "\n",
    "        if current_player == player_symbol:\n",
    "            while True:\n",
    "                try:\n",
    "                    move = int(input(\"Enter your move (1-9): \")) - 1\n",
    "                    if 0 <= move <= 8 and board[move] == \" \":\n",
    "                        board[move] = player_symbol\n",
    "                        break\n",
    "                    else:\n",
    "                        print(\"Invalid move. Try again.\")\n",
    "                except ValueError:\n",
    "                    print(\"Invalid input. Enter a number (1-9).\")\n",
    "        else:\n",
    "            move = computer_move(board)\n",
    "            board[move] = computer_symbol\n",
    "\n",
    "        current_player = player_symbol if current_player == computer_symbol else computer_symbol\n",
    "\n",
    "    display_board(board)\n",
    "\n",
    "    if \" \" not in board:\n",
    "        print(\"It's a tie!\")\n",
    "    elif current_player == player_symbol:\n",
    "        print(\"Congratulations! You win!\")\n",
    "    else:\n",
    "        print(\"Computer wins!\")\n",
    "\n",
    "# Start the game\n",
    "print(\"Welcome to Tic-Tac-Toe!\")\n",
    "play_game()\n"
   ]
  },
  {
   "cell_type": "markdown",
   "id": "875f115f-d736-4de3-91d1-7203db98230f",
   "metadata": {},
   "source": [
    "36. Write a program that generates Fibonacci numbers up to a specified term using iterative methods."
   ]
  },
  {
   "cell_type": "code",
   "execution_count": 9,
   "id": "9a838a32-4aee-4c25-a46d-dc0324eeb272",
   "metadata": {},
   "outputs": [
    {
     "name": "stdin",
     "output_type": "stream",
     "text": [
      "Enter the maximum term for Fibonacci generation:  4\n"
     ]
    },
    {
     "name": "stdout",
     "output_type": "stream",
     "text": [
      "Fibonacci sequence up to term 4 :\n",
      "[0, 1, 1, 2, 3]\n"
     ]
    }
   ],
   "source": [
    "# Function to generate Fibonacci numbers up to a specified term\n",
    "def generate_fibonacci(n):\n",
    "    fibonacci_sequence = []\n",
    "    a, b = 0, 1\n",
    "\n",
    "    while a <= n:\n",
    "        fibonacci_sequence.append(a)\n",
    "        a, b = b, a + b\n",
    "\n",
    "    return fibonacci_sequence\n",
    "\n",
    "# Input the maximum term for Fibonacci generation\n",
    "max_term = int(input(\"Enter the maximum term for Fibonacci generation: \"))\n",
    "\n",
    "# Generate Fibonacci numbers up to the specified term\n",
    "fibonacci_sequence = generate_fibonacci(max_term)\n",
    "\n",
    "# Display the generated Fibonacci sequence\n",
    "print(\"Fibonacci sequence up to term\", max_term, \":\")\n",
    "print(fibonacci_sequence)"
   ]
  },
  {
   "cell_type": "markdown",
   "id": "994d7df5-76f7-440d-b4a0-ff9df1254754",
   "metadata": {},
   "source": [
    "37. Develop a program that calculates the nth term of the Fibonacci sequence using memoization."
   ]
  },
  {
   "cell_type": "code",
   "execution_count": 11,
   "id": "2a888301-3e35-4093-ba9d-3407b11dcebd",
   "metadata": {},
   "outputs": [
    {
     "name": "stdin",
     "output_type": "stream",
     "text": [
      "Enter the value of n:  6\n"
     ]
    },
    {
     "name": "stdout",
     "output_type": "stream",
     "text": [
      "The 6-th Fibonacci term is: 8\n"
     ]
    }
   ],
   "source": [
    "# Function to calculate the nth Fibonacci term using memoization\n",
    "def fibonacci(n, memo={}):\n",
    "    if n in memo:\n",
    "        return memo[n]\n",
    "    if n <= 1:\n",
    "        return n\n",
    "    memo[n] = fibonacci(n - 1, memo) + fibonacci(n - 2, memo)\n",
    "    return memo[n]\n",
    "\n",
    "# Input the value of n for which you want to find the Fibonacci term\n",
    "n = int(input(\"Enter the value of n: \"))\n",
    "\n",
    "# Calculate the nth Fibonacci term\n",
    "result = fibonacci(n)\n",
    "\n",
    "# Display the result\n",
    "print(f\"The {n}-th Fibonacci term is: {result}\")"
   ]
  },
  {
   "cell_type": "markdown",
   "id": "9ac65e2e-79fb-4126-8080-2c99236222a2",
   "metadata": {},
   "source": [
    "38. Create a program that generates a calendar for a given month and year using conditional statements."
   ]
  },
  {
   "cell_type": "code",
   "execution_count": 12,
   "id": "135bf44c-8bb5-4bbb-9461-d610790e4714",
   "metadata": {},
   "outputs": [
    {
     "name": "stdin",
     "output_type": "stream",
     "text": [
      "Enter the year:  2023\n",
      "Enter the month (1-12):  2\n"
     ]
    },
    {
     "name": "stdout",
     "output_type": "stream",
     "text": [
      "Calendar for February 2023:\n",
      "   February 2023\n",
      "Mo Tu We Th Fr Sa Su\n",
      "       1  2  3  4  5\n",
      " 6  7  8  9 10 11 12\n",
      "13 14 15 16 17 18 19\n",
      "20 21 22 23 24 25 26\n",
      "27 28\n",
      "\n"
     ]
    }
   ],
   "source": [
    "import calendar\n",
    "\n",
    "# Function to generate a calendar for a given month and year\n",
    "def generate_calendar(year, month):\n",
    "    # Create a calendar for the specified month and year\n",
    "    cal = calendar.month(year, month)\n",
    "    return cal\n",
    "\n",
    "# Input the year and month\n",
    "year = int(input(\"Enter the year: \"))\n",
    "month = int(input(\"Enter the month (1-12): \"))\n",
    "\n",
    "# Check if the input month is valid\n",
    "if month < 1 or month > 12:\n",
    "    print(\"Invalid month input. Please enter a month between 1 and 12.\")\n",
    "else:\n",
    "    # Generate and display the calendar\n",
    "    cal = generate_calendar(year, month)\n",
    "    print(f\"Calendar for {calendar.month_name[month]} {year}:\")\n",
    "    print(cal)"
   ]
  },
  {
   "cell_type": "markdown",
   "id": "e6323cd9-d506-42b0-8378-d31831b7e5b1",
   "metadata": {},
   "source": [
    "39. Build a program that simulates a basic text-based blackjack game against the computer."
   ]
  },
  {
   "cell_type": "code",
   "execution_count": 15,
   "id": "f2f9ad6c-bf28-42e7-99b3-32d2644e59d6",
   "metadata": {},
   "outputs": [
    {
     "name": "stdout",
     "output_type": "stream",
     "text": [
      "Your hand: ['J', '4']\n",
      "Dealer's hand: 2 [?]\n"
     ]
    },
    {
     "name": "stdin",
     "output_type": "stream",
     "text": [
      "Do you want to 'hit' or 'stand'?  hit\n"
     ]
    },
    {
     "name": "stdout",
     "output_type": "stream",
     "text": [
      "Your hand: ['J', '4', '3']\n",
      "Dealer's hand: 2 [?]\n"
     ]
    },
    {
     "name": "stdin",
     "output_type": "stream",
     "text": [
      "Do you want to 'hit' or 'stand'?  stand\n"
     ]
    },
    {
     "name": "stdout",
     "output_type": "stream",
     "text": [
      "Your hand: ['J', '4', '3']\n",
      "Dealer's hand: 2 [?]\n",
      "Dealer busts. Player wins.\n"
     ]
    }
   ],
   "source": [
    "import random\n",
    "\n",
    "# Function to calculate the total value of a hand\n",
    "def calculate_hand_value(hand):\n",
    "    value = 0\n",
    "    num_aces = 0\n",
    "\n",
    "    for card in hand:\n",
    "        if card in ['K', 'Q', 'J']:\n",
    "            value += 10\n",
    "        elif card == 'A':\n",
    "            value += 11\n",
    "            num_aces += 1\n",
    "        else:\n",
    "            value += int(card)\n",
    "\n",
    "    while value > 21 and num_aces > 0:\n",
    "        value -= 10\n",
    "        num_aces -= 1\n",
    "\n",
    "    return value\n",
    "\n",
    "# Function to display the player's and dealer's hands\n",
    "def display_hands(player_hand, dealer_hand, show_dealer=True):\n",
    "    print(\"Your hand:\", player_hand)\n",
    "    if show_dealer:\n",
    "        print(\"Dealer's hand:\", dealer_hand[0], \"[?]\")\n",
    "\n",
    "# Function to check if a player busts (hand value exceeds 21)\n",
    "def is_bust(hand_value):\n",
    "    return hand_value > 21\n",
    "\n",
    "# Initialize the deck of cards\n",
    "suits = ['Hearts', 'Diamonds', 'Clubs', 'Spades']\n",
    "ranks = ['2', '3', '4', '5', '6', '7', '8', '9', '10', 'J', 'Q', 'K', 'A']\n",
    "deck = [rank for rank in ranks for suit in suits]\n",
    "\n",
    "# Shuffle the deck\n",
    "random.shuffle(deck)\n",
    "\n",
    "# Deal initial cards\n",
    "player_hand = [deck.pop(), deck.pop()]\n",
    "dealer_hand = [deck.pop(), deck.pop()]\n",
    "\n",
    "# Display initial hands\n",
    "display_hands(player_hand, dealer_hand)\n",
    "\n",
    "# Player's turn\n",
    "while True:\n",
    "    player_value = calculate_hand_value(player_hand)\n",
    "    if player_value == 21:\n",
    "        print(\"Blackjack! You win!\")\n",
    "        break\n",
    "    elif is_bust(player_value):\n",
    "        print(\"Bust! You lose.\")\n",
    "        break\n",
    "\n",
    "    choice = input(\"Do you want to 'hit' or 'stand'? \").lower()\n",
    "    if choice == 'hit':\n",
    "        player_hand.append(deck.pop())\n",
    "        display_hands(player_hand, dealer_hand)\n",
    "    elif choice == 'stand':\n",
    "        break\n",
    "    else:\n",
    "        print(\"Invalid choice. Please enter 'hit' or 'stand'.\")\n",
    "\n",
    "# Dealer's turn\n",
    "while calculate_hand_value(dealer_hand) < 17:\n",
    "    dealer_hand.append(deck.pop())\n",
    "\n",
    "# Display final hands\n",
    "display_hands(player_hand, dealer_hand, show_dealer=True)\n",
    "\n",
    "# Determine the winner\n",
    "player_value = calculate_hand_value(player_hand)\n",
    "dealer_value = calculate_hand_value(dealer_hand)\n",
    "\n",
    "if player_value > 21:\n",
    "    print(\"Player busts. Dealer wins.\")\n",
    "elif dealer_value > 21:\n",
    "    print(\"Dealer busts. Player wins.\")\n",
    "elif player_value > dealer_value:\n",
    "    print(\"Player wins!\")\n",
    "elif dealer_value > player_value:\n",
    "    print(\"Dealer wins.\")\n",
    "else:\n",
    "    print(\"It's a tie!\")\n",
    "\n"
   ]
  },
  {
   "cell_type": "markdown",
   "id": "38dbd76d-06e7-4da7-ada4-070123d62da4",
   "metadata": {},
   "source": [
    "40. Write a program that generates the prime factors of a given number using trial division."
   ]
  },
  {
   "cell_type": "code",
   "execution_count": 17,
   "id": "39793583-aa28-4ebf-ac58-6e5949f35935",
   "metadata": {},
   "outputs": [
    {
     "name": "stdin",
     "output_type": "stream",
     "text": [
      "Enter a number:  4\n"
     ]
    },
    {
     "name": "stdout",
     "output_type": "stream",
     "text": [
      "The prime factors of 4 are: [2, 2]\n"
     ]
    }
   ],
   "source": [
    "# Function to generate the prime factors of a number using trial division\n",
    "def prime_factors_trial_division(n):\n",
    "    factors = []\n",
    "    divisor = 2\n",
    "\n",
    "    while n > 1:\n",
    "        while n % divisor == 0:\n",
    "            factors.append(divisor)\n",
    "            n //= divisor\n",
    "        divisor += 1\n",
    "\n",
    "    return factors\n",
    "\n",
    "# Input the number for which you want to find prime factors\n",
    "number = int(input(\"Enter a number: \"))\n",
    "\n",
    "# Find and display the prime factors\n",
    "factors = prime_factors_trial_division(number)\n",
    "\n",
    "if len(factors) == 0:\n",
    "    print(f\"{number} has no prime factors.\")\n",
    "else:\n",
    "    print(f\"The prime factors of {number} are: {factors}\")\n"
   ]
  }
 ],
 "metadata": {
  "kernelspec": {
   "display_name": "Python 3 (ipykernel)",
   "language": "python",
   "name": "python3"
  },
  "language_info": {
   "codemirror_mode": {
    "name": "ipython",
    "version": 3
   },
   "file_extension": ".py",
   "mimetype": "text/x-python",
   "name": "python",
   "nbconvert_exporter": "python",
   "pygments_lexer": "ipython3",
   "version": "3.10.8"
  }
 },
 "nbformat": 4,
 "nbformat_minor": 5
}
